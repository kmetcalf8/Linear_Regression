{
 "cells": [
  {
   "cell_type": "code",
   "execution_count": 1,
   "metadata": {},
   "outputs": [
    {
     "name": "stdout",
     "output_type": "stream",
     "text": [
      "Populating the interactive namespace from numpy and matplotlib\n"
     ]
    }
   ],
   "source": [
    "%pylab inline\n",
    "#% config InlineBackend.figure_format = 'svg'\n",
    "\n",
    "import pandas as pd\n",
    "import seaborn as sns\n",
    "sns.set()\n",
    "\n",
    "from sklearn.model_selection import train_test_split\n",
    "from sklearn.linear_model import LinearRegression, Lasso, LassoCV, Ridge, RidgeCV\n",
    "from sklearn.metrics import r2_score\n",
    "\n",
    "import pandas as pd\n",
    "import numpy as np\n",
    "import statsmodels.api as sm\n",
    "import statsmodels.formula.api as smf\n",
    "import patsy\n",
    "\n",
    "import seaborn as sns\n",
    "import matplotlib.pyplot as plt\n",
    "from sklearn.linear_model import LinearRegression\n",
    "from sklearn.linear_model import RidgeCV\n",
    "from sklearn.model_selection import train_test_split\n",
    "from sklearn.linear_model import LinearRegression\n",
    "%matplotlib inline\n",
    "\n",
    "from sklearn.linear_model import LinearRegression, Lasso, LassoCV, Ridge, RidgeCV\n",
    "from sklearn.metrics import r2_score"
   ]
  },
  {
   "cell_type": "code",
   "execution_count": 2,
   "metadata": {},
   "outputs": [
    {
     "data": {
      "text/html": [
       "<div>\n",
       "<style scoped>\n",
       "    .dataframe tbody tr th:only-of-type {\n",
       "        vertical-align: middle;\n",
       "    }\n",
       "\n",
       "    .dataframe tbody tr th {\n",
       "        vertical-align: top;\n",
       "    }\n",
       "\n",
       "    .dataframe thead th {\n",
       "        text-align: right;\n",
       "    }\n",
       "</style>\n",
       "<table border=\"1\" class=\"dataframe\">\n",
       "  <thead>\n",
       "    <tr style=\"text-align: right;\">\n",
       "      <th></th>\n",
       "      <th>Name</th>\n",
       "      <th>Brand</th>\n",
       "      <th>Price</th>\n",
       "      <th>No_reviews</th>\n",
       "      <th>Hearts</th>\n",
       "      <th>Size</th>\n",
       "      <th>PC</th>\n",
       "      <th>Ingredients_y</th>\n",
       "      <th>AHA</th>\n",
       "      <th>HA</th>\n",
       "      <th>...</th>\n",
       "      <th>LVMH</th>\n",
       "      <th>Loreal</th>\n",
       "      <th>Mark_Veder</th>\n",
       "      <th>PE</th>\n",
       "      <th>PG</th>\n",
       "      <th>Puig</th>\n",
       "      <th>SCJ</th>\n",
       "      <th>Shiseido</th>\n",
       "      <th>SpaceNK</th>\n",
       "      <th>Unilever</th>\n",
       "    </tr>\n",
       "  </thead>\n",
       "  <tbody>\n",
       "    <tr>\n",
       "      <td>0</td>\n",
       "      <td>Protini™ Polypeptide Moisturizer</td>\n",
       "      <td>Drunk Elephant</td>\n",
       "      <td>68.0</td>\n",
       "      <td>4000</td>\n",
       "      <td>266164</td>\n",
       "      <td>1.69</td>\n",
       "      <td>Shiseido</td>\n",
       "      <td>HA</td>\n",
       "      <td>0</td>\n",
       "      <td>1</td>\n",
       "      <td>...</td>\n",
       "      <td>0.0</td>\n",
       "      <td>0.0</td>\n",
       "      <td>0.0</td>\n",
       "      <td>0.0</td>\n",
       "      <td>0.0</td>\n",
       "      <td>0.0</td>\n",
       "      <td>0.0</td>\n",
       "      <td>1.0</td>\n",
       "      <td>0.0</td>\n",
       "      <td>0.0</td>\n",
       "    </tr>\n",
       "    <tr>\n",
       "      <td>1</td>\n",
       "      <td>The Water Cream</td>\n",
       "      <td>Tatcha</td>\n",
       "      <td>68.0</td>\n",
       "      <td>3000</td>\n",
       "      <td>240692</td>\n",
       "      <td>1.70</td>\n",
       "      <td>Unilever</td>\n",
       "      <td>NaN</td>\n",
       "      <td>0</td>\n",
       "      <td>0</td>\n",
       "      <td>...</td>\n",
       "      <td>0.0</td>\n",
       "      <td>0.0</td>\n",
       "      <td>0.0</td>\n",
       "      <td>0.0</td>\n",
       "      <td>0.0</td>\n",
       "      <td>0.0</td>\n",
       "      <td>0.0</td>\n",
       "      <td>0.0</td>\n",
       "      <td>0.0</td>\n",
       "      <td>1.0</td>\n",
       "    </tr>\n",
       "    <tr>\n",
       "      <td>2</td>\n",
       "      <td>Crème de la Mer Moisturizer</td>\n",
       "      <td>La Mer</td>\n",
       "      <td>180.0</td>\n",
       "      <td>667</td>\n",
       "      <td>75353</td>\n",
       "      <td>1.70</td>\n",
       "      <td>Estee_Lauder</td>\n",
       "      <td>NaN</td>\n",
       "      <td>0</td>\n",
       "      <td>0</td>\n",
       "      <td>...</td>\n",
       "      <td>0.0</td>\n",
       "      <td>0.0</td>\n",
       "      <td>0.0</td>\n",
       "      <td>0.0</td>\n",
       "      <td>0.0</td>\n",
       "      <td>0.0</td>\n",
       "      <td>0.0</td>\n",
       "      <td>0.0</td>\n",
       "      <td>0.0</td>\n",
       "      <td>0.0</td>\n",
       "    </tr>\n",
       "  </tbody>\n",
       "</table>\n",
       "<p>3 rows × 28 columns</p>\n",
       "</div>"
      ],
      "text/plain": [
       "                               Name           Brand  Price  No_reviews  \\\n",
       "0  Protini™ Polypeptide Moisturizer  Drunk Elephant   68.0        4000   \n",
       "1                   The Water Cream          Tatcha   68.0        3000   \n",
       "2       Crème de la Mer Moisturizer          La Mer  180.0         667   \n",
       "\n",
       "   Hearts  Size            PC Ingredients_y  AHA  HA  ...  LVMH  Loreal  \\\n",
       "0  266164  1.69      Shiseido            HA    0   1  ...   0.0     0.0   \n",
       "1  240692  1.70      Unilever           NaN    0   0  ...   0.0     0.0   \n",
       "2   75353  1.70  Estee_Lauder           NaN    0   0  ...   0.0     0.0   \n",
       "\n",
       "   Mark_Veder   PE   PG  Puig  SCJ  Shiseido  SpaceNK  Unilever  \n",
       "0         0.0  0.0  0.0   0.0  0.0       1.0      0.0       0.0  \n",
       "1         0.0  0.0  0.0   0.0  0.0       0.0      0.0       1.0  \n",
       "2         0.0  0.0  0.0   0.0  0.0       0.0      0.0       0.0  \n",
       "\n",
       "[3 rows x 28 columns]"
      ]
     },
     "execution_count": 2,
     "metadata": {},
     "output_type": "execute_result"
    }
   ],
   "source": [
    "#DF that was created with all product info\n",
    "product_df = pd.read_csv(\"FINALP_df.csv\")\n",
    "product_df.head(3)"
   ]
  },
  {
   "cell_type": "code",
   "execution_count": 3,
   "metadata": {},
   "outputs": [],
   "source": [
    "prod_df = product_df"
   ]
  },
  {
   "cell_type": "code",
   "execution_count": 4,
   "metadata": {},
   "outputs": [],
   "source": [
    "prod_df = product_df.drop(prod_df.index[291:305])"
   ]
  },
  {
   "cell_type": "code",
   "execution_count": 5,
   "metadata": {},
   "outputs": [
    {
     "data": {
      "text/html": [
       "<div>\n",
       "<style scoped>\n",
       "    .dataframe tbody tr th:only-of-type {\n",
       "        vertical-align: middle;\n",
       "    }\n",
       "\n",
       "    .dataframe tbody tr th {\n",
       "        vertical-align: top;\n",
       "    }\n",
       "\n",
       "    .dataframe thead th {\n",
       "        text-align: right;\n",
       "    }\n",
       "</style>\n",
       "<table border=\"1\" class=\"dataframe\">\n",
       "  <thead>\n",
       "    <tr style=\"text-align: right;\">\n",
       "      <th></th>\n",
       "      <th>Name</th>\n",
       "      <th>Brand</th>\n",
       "      <th>Price</th>\n",
       "      <th>No_reviews</th>\n",
       "      <th>Hearts</th>\n",
       "      <th>Size</th>\n",
       "      <th>PC</th>\n",
       "      <th>Ingredients_y</th>\n",
       "      <th>AHA</th>\n",
       "      <th>HA</th>\n",
       "      <th>...</th>\n",
       "      <th>LVMH</th>\n",
       "      <th>Loreal</th>\n",
       "      <th>Mark_Veder</th>\n",
       "      <th>PE</th>\n",
       "      <th>PG</th>\n",
       "      <th>Puig</th>\n",
       "      <th>SCJ</th>\n",
       "      <th>Shiseido</th>\n",
       "      <th>SpaceNK</th>\n",
       "      <th>Unilever</th>\n",
       "    </tr>\n",
       "  </thead>\n",
       "  <tbody>\n",
       "    <tr>\n",
       "      <td>289</td>\n",
       "      <td>Visionnaire Advanced Multi-Correcting Cream</td>\n",
       "      <td>Lancôme</td>\n",
       "      <td>90.0</td>\n",
       "      <td>35</td>\n",
       "      <td>4281</td>\n",
       "      <td>1.70</td>\n",
       "      <td>Loreal</td>\n",
       "      <td>HA</td>\n",
       "      <td>0</td>\n",
       "      <td>1</td>\n",
       "      <td>...</td>\n",
       "      <td>0.0</td>\n",
       "      <td>0.0</td>\n",
       "      <td>0.0</td>\n",
       "      <td>0.0</td>\n",
       "      <td>0.0</td>\n",
       "      <td>0.0</td>\n",
       "      <td>0.0</td>\n",
       "      <td>0.0</td>\n",
       "      <td>0.0</td>\n",
       "      <td>0.0</td>\n",
       "    </tr>\n",
       "    <tr>\n",
       "      <td>290</td>\n",
       "      <td>Hydrating Moisturizer for Dry Skin</td>\n",
       "      <td>KORA Organics</td>\n",
       "      <td>48.0</td>\n",
       "      <td>24</td>\n",
       "      <td>3043</td>\n",
       "      <td>1.69</td>\n",
       "      <td>Independent</td>\n",
       "      <td>HA</td>\n",
       "      <td>0</td>\n",
       "      <td>1</td>\n",
       "      <td>...</td>\n",
       "      <td>0.0</td>\n",
       "      <td>0.0</td>\n",
       "      <td>0.0</td>\n",
       "      <td>0.0</td>\n",
       "      <td>0.0</td>\n",
       "      <td>0.0</td>\n",
       "      <td>0.0</td>\n",
       "      <td>0.0</td>\n",
       "      <td>0.0</td>\n",
       "      <td>0.0</td>\n",
       "    </tr>\n",
       "  </tbody>\n",
       "</table>\n",
       "<p>2 rows × 28 columns</p>\n",
       "</div>"
      ],
      "text/plain": [
       "                                            Name          Brand  Price  \\\n",
       "289  Visionnaire Advanced Multi-Correcting Cream        Lancôme   90.0   \n",
       "290           Hydrating Moisturizer for Dry Skin  KORA Organics   48.0   \n",
       "\n",
       "     No_reviews  Hearts  Size           PC Ingredients_y  AHA  HA  ...  LVMH  \\\n",
       "289          35    4281  1.70       Loreal            HA    0   1  ...   0.0   \n",
       "290          24    3043  1.69  Independent            HA    0   1  ...   0.0   \n",
       "\n",
       "     Loreal  Mark_Veder   PE   PG  Puig  SCJ  Shiseido  SpaceNK  Unilever  \n",
       "289     0.0         0.0  0.0  0.0   0.0  0.0       0.0      0.0       0.0  \n",
       "290     0.0         0.0  0.0  0.0   0.0  0.0       0.0      0.0       0.0  \n",
       "\n",
       "[2 rows x 28 columns]"
      ]
     },
     "execution_count": 5,
     "metadata": {},
     "output_type": "execute_result"
    }
   ],
   "source": [
    "prod_df.tail(2)"
   ]
  },
  {
   "cell_type": "code",
   "execution_count": 6,
   "metadata": {
    "scrolled": true
   },
   "outputs": [
    {
     "data": {
      "text/html": [
       "<div>\n",
       "<style scoped>\n",
       "    .dataframe tbody tr th:only-of-type {\n",
       "        vertical-align: middle;\n",
       "    }\n",
       "\n",
       "    .dataframe tbody tr th {\n",
       "        vertical-align: top;\n",
       "    }\n",
       "\n",
       "    .dataframe thead th {\n",
       "        text-align: right;\n",
       "    }\n",
       "</style>\n",
       "<table border=\"1\" class=\"dataframe\">\n",
       "  <thead>\n",
       "    <tr style=\"text-align: right;\">\n",
       "      <th></th>\n",
       "      <th>Name</th>\n",
       "      <th>Brand</th>\n",
       "      <th>Price</th>\n",
       "      <th>No_reviews</th>\n",
       "      <th>Hearts</th>\n",
       "      <th>Size</th>\n",
       "      <th>PC</th>\n",
       "      <th>Ingredients_y</th>\n",
       "      <th>AHA</th>\n",
       "      <th>HA</th>\n",
       "      <th>...</th>\n",
       "      <th>Loreal</th>\n",
       "      <th>Mark_Veder</th>\n",
       "      <th>PE</th>\n",
       "      <th>PG</th>\n",
       "      <th>Puig</th>\n",
       "      <th>SCJ</th>\n",
       "      <th>Shiseido</th>\n",
       "      <th>SpaceNK</th>\n",
       "      <th>Unilever</th>\n",
       "      <th>Price_per_OZ</th>\n",
       "    </tr>\n",
       "  </thead>\n",
       "  <tbody>\n",
       "    <tr>\n",
       "      <td>0</td>\n",
       "      <td>Protini™ Polypeptide Moisturizer</td>\n",
       "      <td>Drunk Elephant</td>\n",
       "      <td>68.0</td>\n",
       "      <td>4000</td>\n",
       "      <td>266164</td>\n",
       "      <td>1.69</td>\n",
       "      <td>Shiseido</td>\n",
       "      <td>HA</td>\n",
       "      <td>0</td>\n",
       "      <td>1</td>\n",
       "      <td>...</td>\n",
       "      <td>0.0</td>\n",
       "      <td>0.0</td>\n",
       "      <td>0.0</td>\n",
       "      <td>0.0</td>\n",
       "      <td>0.0</td>\n",
       "      <td>0.0</td>\n",
       "      <td>1.0</td>\n",
       "      <td>0.0</td>\n",
       "      <td>0.0</td>\n",
       "      <td>40.236685</td>\n",
       "    </tr>\n",
       "  </tbody>\n",
       "</table>\n",
       "<p>1 rows × 29 columns</p>\n",
       "</div>"
      ],
      "text/plain": [
       "                               Name           Brand  Price  No_reviews  \\\n",
       "0  Protini™ Polypeptide Moisturizer  Drunk Elephant   68.0        4000   \n",
       "\n",
       "   Hearts  Size        PC Ingredients_y  AHA  HA  ...  Loreal  Mark_Veder  \\\n",
       "0  266164  1.69  Shiseido            HA    0   1  ...     0.0         0.0   \n",
       "\n",
       "    PE   PG  Puig  SCJ  Shiseido  SpaceNK  Unilever  Price_per_OZ  \n",
       "0  0.0  0.0   0.0  0.0       1.0      0.0       0.0     40.236685  \n",
       "\n",
       "[1 rows x 29 columns]"
      ]
     },
     "execution_count": 6,
     "metadata": {},
     "output_type": "execute_result"
    }
   ],
   "source": [
    "#Create new column with price/oz of product to make a more comporable target across the dataframe\n",
    "prod_df['Price_per_OZ'] = product_df['Price']/product_df['Size']\n",
    "prod_df.head(1)"
   ]
  },
  {
   "cell_type": "markdown",
   "metadata": {},
   "source": [
    "### Correlation"
   ]
  },
  {
   "cell_type": "code",
   "execution_count": 91,
   "metadata": {},
   "outputs": [
    {
     "data": {
      "text/html": [
       "<div>\n",
       "<style scoped>\n",
       "    .dataframe tbody tr th:only-of-type {\n",
       "        vertical-align: middle;\n",
       "    }\n",
       "\n",
       "    .dataframe tbody tr th {\n",
       "        vertical-align: top;\n",
       "    }\n",
       "\n",
       "    .dataframe thead th {\n",
       "        text-align: right;\n",
       "    }\n",
       "</style>\n",
       "<table border=\"1\" class=\"dataframe\">\n",
       "  <thead>\n",
       "    <tr style=\"text-align: right;\">\n",
       "      <th></th>\n",
       "      <th>Price</th>\n",
       "      <th>No_reviews</th>\n",
       "      <th>Hearts</th>\n",
       "      <th>Size</th>\n",
       "      <th>AHA</th>\n",
       "      <th>HA</th>\n",
       "      <th>AMOREPACIFIC</th>\n",
       "      <th>Clarins</th>\n",
       "      <th>Coty</th>\n",
       "      <th>Edgewell</th>\n",
       "      <th>...</th>\n",
       "      <th>Loreal</th>\n",
       "      <th>Mark_Veder</th>\n",
       "      <th>PE</th>\n",
       "      <th>PG</th>\n",
       "      <th>Puig</th>\n",
       "      <th>SCJ</th>\n",
       "      <th>Shiseido</th>\n",
       "      <th>SpaceNK</th>\n",
       "      <th>Unilever</th>\n",
       "      <th>Price_per_OZ</th>\n",
       "    </tr>\n",
       "  </thead>\n",
       "  <tbody>\n",
       "    <tr>\n",
       "      <td>Price</td>\n",
       "      <td>1.000000</td>\n",
       "      <td>-0.193673</td>\n",
       "      <td>-0.177592</td>\n",
       "      <td>0.067823</td>\n",
       "      <td>0.032486</td>\n",
       "      <td>-0.088621</td>\n",
       "      <td>-0.038938</td>\n",
       "      <td>0.160826</td>\n",
       "      <td>0.070904</td>\n",
       "      <td>-0.055274</td>\n",
       "      <td>...</td>\n",
       "      <td>-0.038349</td>\n",
       "      <td>-0.038231</td>\n",
       "      <td>0.129533</td>\n",
       "      <td>-0.031114</td>\n",
       "      <td>-0.035639</td>\n",
       "      <td>0.001179</td>\n",
       "      <td>0.017697</td>\n",
       "      <td>-0.051897</td>\n",
       "      <td>-0.060638</td>\n",
       "      <td>0.951940</td>\n",
       "    </tr>\n",
       "    <tr>\n",
       "      <td>No_reviews</td>\n",
       "      <td>-0.193673</td>\n",
       "      <td>1.000000</td>\n",
       "      <td>0.715189</td>\n",
       "      <td>-0.030905</td>\n",
       "      <td>0.069687</td>\n",
       "      <td>-0.112029</td>\n",
       "      <td>-0.060738</td>\n",
       "      <td>-0.025668</td>\n",
       "      <td>-0.031715</td>\n",
       "      <td>0.047531</td>\n",
       "      <td>...</td>\n",
       "      <td>-0.042788</td>\n",
       "      <td>0.032772</td>\n",
       "      <td>-0.052977</td>\n",
       "      <td>0.140084</td>\n",
       "      <td>0.021876</td>\n",
       "      <td>-0.027632</td>\n",
       "      <td>0.025381</td>\n",
       "      <td>-0.033918</td>\n",
       "      <td>-0.038824</td>\n",
       "      <td>-0.192724</td>\n",
       "    </tr>\n",
       "    <tr>\n",
       "      <td>Hearts</td>\n",
       "      <td>-0.177592</td>\n",
       "      <td>0.715189</td>\n",
       "      <td>1.000000</td>\n",
       "      <td>-0.024139</td>\n",
       "      <td>-0.024023</td>\n",
       "      <td>-0.061063</td>\n",
       "      <td>-0.068545</td>\n",
       "      <td>-0.065501</td>\n",
       "      <td>-0.025150</td>\n",
       "      <td>0.085257</td>\n",
       "      <td>...</td>\n",
       "      <td>-0.055999</td>\n",
       "      <td>0.048265</td>\n",
       "      <td>-0.040611</td>\n",
       "      <td>0.116115</td>\n",
       "      <td>-0.015331</td>\n",
       "      <td>-0.028860</td>\n",
       "      <td>0.124198</td>\n",
       "      <td>-0.030163</td>\n",
       "      <td>0.010147</td>\n",
       "      <td>-0.174843</td>\n",
       "    </tr>\n",
       "    <tr>\n",
       "      <td>Size</td>\n",
       "      <td>0.067823</td>\n",
       "      <td>-0.030905</td>\n",
       "      <td>-0.024139</td>\n",
       "      <td>1.000000</td>\n",
       "      <td>0.028999</td>\n",
       "      <td>0.031632</td>\n",
       "      <td>0.014611</td>\n",
       "      <td>-0.056094</td>\n",
       "      <td>-0.055359</td>\n",
       "      <td>-0.001588</td>\n",
       "      <td>...</td>\n",
       "      <td>-0.106874</td>\n",
       "      <td>-0.001588</td>\n",
       "      <td>0.099306</td>\n",
       "      <td>0.029291</td>\n",
       "      <td>-0.003193</td>\n",
       "      <td>-0.001588</td>\n",
       "      <td>0.051652</td>\n",
       "      <td>0.086220</td>\n",
       "      <td>-0.058738</td>\n",
       "      <td>-0.160259</td>\n",
       "    </tr>\n",
       "    <tr>\n",
       "      <td>AHA</td>\n",
       "      <td>0.032486</td>\n",
       "      <td>0.069687</td>\n",
       "      <td>-0.024023</td>\n",
       "      <td>0.028999</td>\n",
       "      <td>1.000000</td>\n",
       "      <td>-0.280683</td>\n",
       "      <td>0.084388</td>\n",
       "      <td>-0.048273</td>\n",
       "      <td>0.032459</td>\n",
       "      <td>-0.019537</td>\n",
       "      <td>...</td>\n",
       "      <td>-0.051748</td>\n",
       "      <td>-0.019537</td>\n",
       "      <td>0.078442</td>\n",
       "      <td>-0.062762</td>\n",
       "      <td>-0.039277</td>\n",
       "      <td>-0.019537</td>\n",
       "      <td>-0.080249</td>\n",
       "      <td>-0.027677</td>\n",
       "      <td>0.025737</td>\n",
       "      <td>0.030940</td>\n",
       "    </tr>\n",
       "    <tr>\n",
       "      <td>HA</td>\n",
       "      <td>-0.088621</td>\n",
       "      <td>-0.112029</td>\n",
       "      <td>-0.061063</td>\n",
       "      <td>0.031632</td>\n",
       "      <td>-0.280683</td>\n",
       "      <td>1.000000</td>\n",
       "      <td>0.028721</td>\n",
       "      <td>-0.073346</td>\n",
       "      <td>-0.024280</td>\n",
       "      <td>-0.049542</td>\n",
       "      <td>...</td>\n",
       "      <td>0.048852</td>\n",
       "      <td>0.069604</td>\n",
       "      <td>-0.056647</td>\n",
       "      <td>-0.006050</td>\n",
       "      <td>0.080050</td>\n",
       "      <td>-0.049542</td>\n",
       "      <td>0.071792</td>\n",
       "      <td>-0.070183</td>\n",
       "      <td>-0.015868</td>\n",
       "      <td>-0.091644</td>\n",
       "    </tr>\n",
       "    <tr>\n",
       "      <td>AMOREPACIFIC</td>\n",
       "      <td>-0.038938</td>\n",
       "      <td>-0.060738</td>\n",
       "      <td>-0.068545</td>\n",
       "      <td>0.014611</td>\n",
       "      <td>0.084388</td>\n",
       "      <td>0.028721</td>\n",
       "      <td>1.000000</td>\n",
       "      <td>-0.024395</td>\n",
       "      <td>-0.024395</td>\n",
       "      <td>-0.009873</td>\n",
       "      <td>...</td>\n",
       "      <td>-0.048082</td>\n",
       "      <td>-0.009873</td>\n",
       "      <td>-0.048082</td>\n",
       "      <td>-0.031717</td>\n",
       "      <td>-0.019849</td>\n",
       "      <td>-0.009873</td>\n",
       "      <td>-0.040555</td>\n",
       "      <td>-0.013987</td>\n",
       "      <td>-0.060131</td>\n",
       "      <td>-0.048245</td>\n",
       "    </tr>\n",
       "    <tr>\n",
       "      <td>Clarins</td>\n",
       "      <td>0.160826</td>\n",
       "      <td>-0.025668</td>\n",
       "      <td>-0.065501</td>\n",
       "      <td>-0.056094</td>\n",
       "      <td>-0.048273</td>\n",
       "      <td>-0.073346</td>\n",
       "      <td>-0.024395</td>\n",
       "      <td>1.000000</td>\n",
       "      <td>-0.021053</td>\n",
       "      <td>-0.008520</td>\n",
       "      <td>...</td>\n",
       "      <td>-0.041494</td>\n",
       "      <td>-0.008520</td>\n",
       "      <td>-0.041494</td>\n",
       "      <td>-0.027372</td>\n",
       "      <td>-0.017129</td>\n",
       "      <td>-0.008520</td>\n",
       "      <td>-0.034998</td>\n",
       "      <td>-0.012070</td>\n",
       "      <td>-0.051892</td>\n",
       "      <td>0.186994</td>\n",
       "    </tr>\n",
       "    <tr>\n",
       "      <td>Coty</td>\n",
       "      <td>0.070904</td>\n",
       "      <td>-0.031715</td>\n",
       "      <td>-0.025150</td>\n",
       "      <td>-0.055359</td>\n",
       "      <td>0.032459</td>\n",
       "      <td>-0.024280</td>\n",
       "      <td>-0.024395</td>\n",
       "      <td>-0.021053</td>\n",
       "      <td>1.000000</td>\n",
       "      <td>-0.008520</td>\n",
       "      <td>...</td>\n",
       "      <td>-0.041494</td>\n",
       "      <td>-0.008520</td>\n",
       "      <td>-0.041494</td>\n",
       "      <td>-0.027372</td>\n",
       "      <td>-0.017129</td>\n",
       "      <td>-0.008520</td>\n",
       "      <td>-0.034998</td>\n",
       "      <td>-0.012070</td>\n",
       "      <td>-0.051892</td>\n",
       "      <td>0.086639</td>\n",
       "    </tr>\n",
       "    <tr>\n",
       "      <td>Edgewell</td>\n",
       "      <td>-0.055274</td>\n",
       "      <td>0.047531</td>\n",
       "      <td>0.085257</td>\n",
       "      <td>-0.001588</td>\n",
       "      <td>-0.019537</td>\n",
       "      <td>-0.049542</td>\n",
       "      <td>-0.009873</td>\n",
       "      <td>-0.008520</td>\n",
       "      <td>-0.008520</td>\n",
       "      <td>1.000000</td>\n",
       "      <td>...</td>\n",
       "      <td>-0.016793</td>\n",
       "      <td>-0.003448</td>\n",
       "      <td>-0.016793</td>\n",
       "      <td>-0.011078</td>\n",
       "      <td>-0.006933</td>\n",
       "      <td>-0.003448</td>\n",
       "      <td>-0.014164</td>\n",
       "      <td>-0.004885</td>\n",
       "      <td>-0.021001</td>\n",
       "      <td>-0.056310</td>\n",
       "    </tr>\n",
       "    <tr>\n",
       "      <td>Estee_Lauder</td>\n",
       "      <td>0.082293</td>\n",
       "      <td>-0.053382</td>\n",
       "      <td>-0.009621</td>\n",
       "      <td>0.116871</td>\n",
       "      <td>-0.066178</td>\n",
       "      <td>0.169440</td>\n",
       "      <td>-0.067119</td>\n",
       "      <td>-0.057922</td>\n",
       "      <td>-0.057922</td>\n",
       "      <td>-0.023442</td>\n",
       "      <td>...</td>\n",
       "      <td>-0.114164</td>\n",
       "      <td>-0.023442</td>\n",
       "      <td>-0.114164</td>\n",
       "      <td>-0.075308</td>\n",
       "      <td>-0.047128</td>\n",
       "      <td>-0.023442</td>\n",
       "      <td>-0.096291</td>\n",
       "      <td>-0.033209</td>\n",
       "      <td>-0.142771</td>\n",
       "      <td>0.044895</td>\n",
       "    </tr>\n",
       "    <tr>\n",
       "      <td>Independent</td>\n",
       "      <td>-0.051329</td>\n",
       "      <td>0.053780</td>\n",
       "      <td>-0.037759</td>\n",
       "      <td>-0.012386</td>\n",
       "      <td>0.072538</td>\n",
       "      <td>-0.163008</td>\n",
       "      <td>-0.113412</td>\n",
       "      <td>-0.097872</td>\n",
       "      <td>-0.097872</td>\n",
       "      <td>-0.039610</td>\n",
       "      <td>...</td>\n",
       "      <td>-0.192904</td>\n",
       "      <td>-0.039610</td>\n",
       "      <td>-0.192904</td>\n",
       "      <td>-0.127248</td>\n",
       "      <td>-0.079633</td>\n",
       "      <td>-0.039610</td>\n",
       "      <td>-0.162704</td>\n",
       "      <td>-0.056114</td>\n",
       "      <td>-0.241242</td>\n",
       "      <td>-0.055103</td>\n",
       "    </tr>\n",
       "    <tr>\n",
       "      <td>Kose</td>\n",
       "      <td>-0.051638</td>\n",
       "      <td>0.098082</td>\n",
       "      <td>0.061847</td>\n",
       "      <td>-0.012064</td>\n",
       "      <td>-0.033956</td>\n",
       "      <td>-0.017079</td>\n",
       "      <td>-0.017160</td>\n",
       "      <td>-0.014809</td>\n",
       "      <td>-0.014809</td>\n",
       "      <td>-0.005993</td>\n",
       "      <td>...</td>\n",
       "      <td>-0.029188</td>\n",
       "      <td>-0.005993</td>\n",
       "      <td>-0.029188</td>\n",
       "      <td>-0.019254</td>\n",
       "      <td>-0.012049</td>\n",
       "      <td>-0.005993</td>\n",
       "      <td>-0.024618</td>\n",
       "      <td>-0.008490</td>\n",
       "      <td>-0.036502</td>\n",
       "      <td>-0.052401</td>\n",
       "    </tr>\n",
       "    <tr>\n",
       "      <td>LG</td>\n",
       "      <td>-0.022254</td>\n",
       "      <td>0.016340</td>\n",
       "      <td>-0.001281</td>\n",
       "      <td>-0.001588</td>\n",
       "      <td>-0.019537</td>\n",
       "      <td>0.069604</td>\n",
       "      <td>-0.009873</td>\n",
       "      <td>-0.008520</td>\n",
       "      <td>-0.008520</td>\n",
       "      <td>-0.003448</td>\n",
       "      <td>...</td>\n",
       "      <td>-0.016793</td>\n",
       "      <td>-0.003448</td>\n",
       "      <td>-0.016793</td>\n",
       "      <td>-0.011078</td>\n",
       "      <td>-0.006933</td>\n",
       "      <td>-0.003448</td>\n",
       "      <td>-0.014164</td>\n",
       "      <td>-0.004885</td>\n",
       "      <td>-0.021001</td>\n",
       "      <td>-0.023487</td>\n",
       "    </tr>\n",
       "    <tr>\n",
       "      <td>LVMH</td>\n",
       "      <td>-0.050854</td>\n",
       "      <td>0.015145</td>\n",
       "      <td>0.035434</td>\n",
       "      <td>-0.082505</td>\n",
       "      <td>0.025367</td>\n",
       "      <td>0.051215</td>\n",
       "      <td>-0.050408</td>\n",
       "      <td>-0.043501</td>\n",
       "      <td>-0.043501</td>\n",
       "      <td>-0.017606</td>\n",
       "      <td>...</td>\n",
       "      <td>-0.085740</td>\n",
       "      <td>-0.017606</td>\n",
       "      <td>-0.085740</td>\n",
       "      <td>-0.056558</td>\n",
       "      <td>-0.035395</td>\n",
       "      <td>-0.017606</td>\n",
       "      <td>-0.072318</td>\n",
       "      <td>-0.024941</td>\n",
       "      <td>-0.107225</td>\n",
       "      <td>-0.015875</td>\n",
       "    </tr>\n",
       "    <tr>\n",
       "      <td>Loreal</td>\n",
       "      <td>-0.038349</td>\n",
       "      <td>-0.042788</td>\n",
       "      <td>-0.055999</td>\n",
       "      <td>-0.106874</td>\n",
       "      <td>-0.051748</td>\n",
       "      <td>0.048852</td>\n",
       "      <td>-0.048082</td>\n",
       "      <td>-0.041494</td>\n",
       "      <td>-0.041494</td>\n",
       "      <td>-0.016793</td>\n",
       "      <td>...</td>\n",
       "      <td>1.000000</td>\n",
       "      <td>-0.016793</td>\n",
       "      <td>-0.081784</td>\n",
       "      <td>-0.053949</td>\n",
       "      <td>-0.033762</td>\n",
       "      <td>-0.016793</td>\n",
       "      <td>-0.068981</td>\n",
       "      <td>-0.023790</td>\n",
       "      <td>-0.102278</td>\n",
       "      <td>-0.008834</td>\n",
       "    </tr>\n",
       "    <tr>\n",
       "      <td>Mark_Veder</td>\n",
       "      <td>-0.038231</td>\n",
       "      <td>0.032772</td>\n",
       "      <td>0.048265</td>\n",
       "      <td>-0.001588</td>\n",
       "      <td>-0.019537</td>\n",
       "      <td>0.069604</td>\n",
       "      <td>-0.009873</td>\n",
       "      <td>-0.008520</td>\n",
       "      <td>-0.008520</td>\n",
       "      <td>-0.003448</td>\n",
       "      <td>...</td>\n",
       "      <td>-0.016793</td>\n",
       "      <td>1.000000</td>\n",
       "      <td>-0.016793</td>\n",
       "      <td>-0.011078</td>\n",
       "      <td>-0.006933</td>\n",
       "      <td>-0.003448</td>\n",
       "      <td>-0.014164</td>\n",
       "      <td>-0.004885</td>\n",
       "      <td>-0.021001</td>\n",
       "      <td>-0.039369</td>\n",
       "    </tr>\n",
       "    <tr>\n",
       "      <td>PE</td>\n",
       "      <td>0.129533</td>\n",
       "      <td>-0.052977</td>\n",
       "      <td>-0.040611</td>\n",
       "      <td>0.099306</td>\n",
       "      <td>0.078442</td>\n",
       "      <td>-0.056647</td>\n",
       "      <td>-0.048082</td>\n",
       "      <td>-0.041494</td>\n",
       "      <td>-0.041494</td>\n",
       "      <td>-0.016793</td>\n",
       "      <td>...</td>\n",
       "      <td>-0.081784</td>\n",
       "      <td>-0.016793</td>\n",
       "      <td>1.000000</td>\n",
       "      <td>-0.053949</td>\n",
       "      <td>-0.033762</td>\n",
       "      <td>-0.016793</td>\n",
       "      <td>-0.068981</td>\n",
       "      <td>-0.023790</td>\n",
       "      <td>-0.102278</td>\n",
       "      <td>0.116096</td>\n",
       "    </tr>\n",
       "    <tr>\n",
       "      <td>PG</td>\n",
       "      <td>-0.031114</td>\n",
       "      <td>0.140084</td>\n",
       "      <td>0.116115</td>\n",
       "      <td>0.029291</td>\n",
       "      <td>-0.062762</td>\n",
       "      <td>-0.006050</td>\n",
       "      <td>-0.031717</td>\n",
       "      <td>-0.027372</td>\n",
       "      <td>-0.027372</td>\n",
       "      <td>-0.011078</td>\n",
       "      <td>...</td>\n",
       "      <td>-0.053949</td>\n",
       "      <td>-0.011078</td>\n",
       "      <td>-0.053949</td>\n",
       "      <td>1.000000</td>\n",
       "      <td>-0.022271</td>\n",
       "      <td>-0.011078</td>\n",
       "      <td>-0.045503</td>\n",
       "      <td>-0.015693</td>\n",
       "      <td>-0.067467</td>\n",
       "      <td>-0.052013</td>\n",
       "    </tr>\n",
       "    <tr>\n",
       "      <td>Puig</td>\n",
       "      <td>-0.035639</td>\n",
       "      <td>0.021876</td>\n",
       "      <td>-0.015331</td>\n",
       "      <td>-0.003193</td>\n",
       "      <td>-0.039277</td>\n",
       "      <td>0.080050</td>\n",
       "      <td>-0.019849</td>\n",
       "      <td>-0.017129</td>\n",
       "      <td>-0.017129</td>\n",
       "      <td>-0.006933</td>\n",
       "      <td>...</td>\n",
       "      <td>-0.033762</td>\n",
       "      <td>-0.006933</td>\n",
       "      <td>-0.033762</td>\n",
       "      <td>-0.022271</td>\n",
       "      <td>1.000000</td>\n",
       "      <td>-0.006933</td>\n",
       "      <td>-0.028476</td>\n",
       "      <td>-0.009821</td>\n",
       "      <td>-0.042222</td>\n",
       "      <td>-0.038173</td>\n",
       "    </tr>\n",
       "    <tr>\n",
       "      <td>SCJ</td>\n",
       "      <td>0.001179</td>\n",
       "      <td>-0.027632</td>\n",
       "      <td>-0.028860</td>\n",
       "      <td>-0.001588</td>\n",
       "      <td>-0.019537</td>\n",
       "      <td>-0.049542</td>\n",
       "      <td>-0.009873</td>\n",
       "      <td>-0.008520</td>\n",
       "      <td>-0.008520</td>\n",
       "      <td>-0.003448</td>\n",
       "      <td>...</td>\n",
       "      <td>-0.016793</td>\n",
       "      <td>-0.003448</td>\n",
       "      <td>-0.016793</td>\n",
       "      <td>-0.011078</td>\n",
       "      <td>-0.006933</td>\n",
       "      <td>1.000000</td>\n",
       "      <td>-0.014164</td>\n",
       "      <td>-0.004885</td>\n",
       "      <td>-0.021001</td>\n",
       "      <td>-0.000194</td>\n",
       "    </tr>\n",
       "    <tr>\n",
       "      <td>Shiseido</td>\n",
       "      <td>0.017697</td>\n",
       "      <td>0.025381</td>\n",
       "      <td>0.124198</td>\n",
       "      <td>0.051652</td>\n",
       "      <td>-0.080249</td>\n",
       "      <td>0.071792</td>\n",
       "      <td>-0.040555</td>\n",
       "      <td>-0.034998</td>\n",
       "      <td>-0.034998</td>\n",
       "      <td>-0.014164</td>\n",
       "      <td>...</td>\n",
       "      <td>-0.068981</td>\n",
       "      <td>-0.014164</td>\n",
       "      <td>-0.068981</td>\n",
       "      <td>-0.045503</td>\n",
       "      <td>-0.028476</td>\n",
       "      <td>-0.014164</td>\n",
       "      <td>1.000000</td>\n",
       "      <td>-0.020066</td>\n",
       "      <td>-0.086266</td>\n",
       "      <td>-0.008473</td>\n",
       "    </tr>\n",
       "    <tr>\n",
       "      <td>SpaceNK</td>\n",
       "      <td>-0.051897</td>\n",
       "      <td>-0.033918</td>\n",
       "      <td>-0.030163</td>\n",
       "      <td>0.086220</td>\n",
       "      <td>-0.027677</td>\n",
       "      <td>-0.070183</td>\n",
       "      <td>-0.013987</td>\n",
       "      <td>-0.012070</td>\n",
       "      <td>-0.012070</td>\n",
       "      <td>-0.004885</td>\n",
       "      <td>...</td>\n",
       "      <td>-0.023790</td>\n",
       "      <td>-0.004885</td>\n",
       "      <td>-0.023790</td>\n",
       "      <td>-0.015693</td>\n",
       "      <td>-0.009821</td>\n",
       "      <td>-0.004885</td>\n",
       "      <td>-0.020066</td>\n",
       "      <td>1.000000</td>\n",
       "      <td>-0.029752</td>\n",
       "      <td>-0.060064</td>\n",
       "    </tr>\n",
       "    <tr>\n",
       "      <td>Unilever</td>\n",
       "      <td>-0.060638</td>\n",
       "      <td>-0.038824</td>\n",
       "      <td>0.010147</td>\n",
       "      <td>-0.058738</td>\n",
       "      <td>0.025737</td>\n",
       "      <td>-0.015868</td>\n",
       "      <td>-0.060131</td>\n",
       "      <td>-0.051892</td>\n",
       "      <td>-0.051892</td>\n",
       "      <td>-0.021001</td>\n",
       "      <td>...</td>\n",
       "      <td>-0.102278</td>\n",
       "      <td>-0.021001</td>\n",
       "      <td>-0.102278</td>\n",
       "      <td>-0.067467</td>\n",
       "      <td>-0.042222</td>\n",
       "      <td>-0.021001</td>\n",
       "      <td>-0.086266</td>\n",
       "      <td>-0.029752</td>\n",
       "      <td>1.000000</td>\n",
       "      <td>-0.037233</td>\n",
       "    </tr>\n",
       "    <tr>\n",
       "      <td>Price_per_OZ</td>\n",
       "      <td>0.951940</td>\n",
       "      <td>-0.192724</td>\n",
       "      <td>-0.174843</td>\n",
       "      <td>-0.160259</td>\n",
       "      <td>0.030940</td>\n",
       "      <td>-0.091644</td>\n",
       "      <td>-0.048245</td>\n",
       "      <td>0.186994</td>\n",
       "      <td>0.086639</td>\n",
       "      <td>-0.056310</td>\n",
       "      <td>...</td>\n",
       "      <td>-0.008834</td>\n",
       "      <td>-0.039369</td>\n",
       "      <td>0.116096</td>\n",
       "      <td>-0.052013</td>\n",
       "      <td>-0.038173</td>\n",
       "      <td>-0.000194</td>\n",
       "      <td>-0.008473</td>\n",
       "      <td>-0.060064</td>\n",
       "      <td>-0.037233</td>\n",
       "      <td>1.000000</td>\n",
       "    </tr>\n",
       "  </tbody>\n",
       "</table>\n",
       "<p>25 rows × 25 columns</p>\n",
       "</div>"
      ],
      "text/plain": [
       "                 Price  No_reviews    Hearts      Size       AHA        HA  \\\n",
       "Price         1.000000   -0.193673 -0.177592  0.067823  0.032486 -0.088621   \n",
       "No_reviews   -0.193673    1.000000  0.715189 -0.030905  0.069687 -0.112029   \n",
       "Hearts       -0.177592    0.715189  1.000000 -0.024139 -0.024023 -0.061063   \n",
       "Size          0.067823   -0.030905 -0.024139  1.000000  0.028999  0.031632   \n",
       "AHA           0.032486    0.069687 -0.024023  0.028999  1.000000 -0.280683   \n",
       "HA           -0.088621   -0.112029 -0.061063  0.031632 -0.280683  1.000000   \n",
       "AMOREPACIFIC -0.038938   -0.060738 -0.068545  0.014611  0.084388  0.028721   \n",
       "Clarins       0.160826   -0.025668 -0.065501 -0.056094 -0.048273 -0.073346   \n",
       "Coty          0.070904   -0.031715 -0.025150 -0.055359  0.032459 -0.024280   \n",
       "Edgewell     -0.055274    0.047531  0.085257 -0.001588 -0.019537 -0.049542   \n",
       "Estee_Lauder  0.082293   -0.053382 -0.009621  0.116871 -0.066178  0.169440   \n",
       "Independent  -0.051329    0.053780 -0.037759 -0.012386  0.072538 -0.163008   \n",
       "Kose         -0.051638    0.098082  0.061847 -0.012064 -0.033956 -0.017079   \n",
       "LG           -0.022254    0.016340 -0.001281 -0.001588 -0.019537  0.069604   \n",
       "LVMH         -0.050854    0.015145  0.035434 -0.082505  0.025367  0.051215   \n",
       "Loreal       -0.038349   -0.042788 -0.055999 -0.106874 -0.051748  0.048852   \n",
       "Mark_Veder   -0.038231    0.032772  0.048265 -0.001588 -0.019537  0.069604   \n",
       "PE            0.129533   -0.052977 -0.040611  0.099306  0.078442 -0.056647   \n",
       "PG           -0.031114    0.140084  0.116115  0.029291 -0.062762 -0.006050   \n",
       "Puig         -0.035639    0.021876 -0.015331 -0.003193 -0.039277  0.080050   \n",
       "SCJ           0.001179   -0.027632 -0.028860 -0.001588 -0.019537 -0.049542   \n",
       "Shiseido      0.017697    0.025381  0.124198  0.051652 -0.080249  0.071792   \n",
       "SpaceNK      -0.051897   -0.033918 -0.030163  0.086220 -0.027677 -0.070183   \n",
       "Unilever     -0.060638   -0.038824  0.010147 -0.058738  0.025737 -0.015868   \n",
       "Price_per_OZ  0.951940   -0.192724 -0.174843 -0.160259  0.030940 -0.091644   \n",
       "\n",
       "              AMOREPACIFIC   Clarins      Coty  Edgewell  ...    Loreal  \\\n",
       "Price            -0.038938  0.160826  0.070904 -0.055274  ... -0.038349   \n",
       "No_reviews       -0.060738 -0.025668 -0.031715  0.047531  ... -0.042788   \n",
       "Hearts           -0.068545 -0.065501 -0.025150  0.085257  ... -0.055999   \n",
       "Size              0.014611 -0.056094 -0.055359 -0.001588  ... -0.106874   \n",
       "AHA               0.084388 -0.048273  0.032459 -0.019537  ... -0.051748   \n",
       "HA                0.028721 -0.073346 -0.024280 -0.049542  ...  0.048852   \n",
       "AMOREPACIFIC      1.000000 -0.024395 -0.024395 -0.009873  ... -0.048082   \n",
       "Clarins          -0.024395  1.000000 -0.021053 -0.008520  ... -0.041494   \n",
       "Coty             -0.024395 -0.021053  1.000000 -0.008520  ... -0.041494   \n",
       "Edgewell         -0.009873 -0.008520 -0.008520  1.000000  ... -0.016793   \n",
       "Estee_Lauder     -0.067119 -0.057922 -0.057922 -0.023442  ... -0.114164   \n",
       "Independent      -0.113412 -0.097872 -0.097872 -0.039610  ... -0.192904   \n",
       "Kose             -0.017160 -0.014809 -0.014809 -0.005993  ... -0.029188   \n",
       "LG               -0.009873 -0.008520 -0.008520 -0.003448  ... -0.016793   \n",
       "LVMH             -0.050408 -0.043501 -0.043501 -0.017606  ... -0.085740   \n",
       "Loreal           -0.048082 -0.041494 -0.041494 -0.016793  ...  1.000000   \n",
       "Mark_Veder       -0.009873 -0.008520 -0.008520 -0.003448  ... -0.016793   \n",
       "PE               -0.048082 -0.041494 -0.041494 -0.016793  ... -0.081784   \n",
       "PG               -0.031717 -0.027372 -0.027372 -0.011078  ... -0.053949   \n",
       "Puig             -0.019849 -0.017129 -0.017129 -0.006933  ... -0.033762   \n",
       "SCJ              -0.009873 -0.008520 -0.008520 -0.003448  ... -0.016793   \n",
       "Shiseido         -0.040555 -0.034998 -0.034998 -0.014164  ... -0.068981   \n",
       "SpaceNK          -0.013987 -0.012070 -0.012070 -0.004885  ... -0.023790   \n",
       "Unilever         -0.060131 -0.051892 -0.051892 -0.021001  ... -0.102278   \n",
       "Price_per_OZ     -0.048245  0.186994  0.086639 -0.056310  ... -0.008834   \n",
       "\n",
       "              Mark_Veder        PE        PG      Puig       SCJ  Shiseido  \\\n",
       "Price          -0.038231  0.129533 -0.031114 -0.035639  0.001179  0.017697   \n",
       "No_reviews      0.032772 -0.052977  0.140084  0.021876 -0.027632  0.025381   \n",
       "Hearts          0.048265 -0.040611  0.116115 -0.015331 -0.028860  0.124198   \n",
       "Size           -0.001588  0.099306  0.029291 -0.003193 -0.001588  0.051652   \n",
       "AHA            -0.019537  0.078442 -0.062762 -0.039277 -0.019537 -0.080249   \n",
       "HA              0.069604 -0.056647 -0.006050  0.080050 -0.049542  0.071792   \n",
       "AMOREPACIFIC   -0.009873 -0.048082 -0.031717 -0.019849 -0.009873 -0.040555   \n",
       "Clarins        -0.008520 -0.041494 -0.027372 -0.017129 -0.008520 -0.034998   \n",
       "Coty           -0.008520 -0.041494 -0.027372 -0.017129 -0.008520 -0.034998   \n",
       "Edgewell       -0.003448 -0.016793 -0.011078 -0.006933 -0.003448 -0.014164   \n",
       "Estee_Lauder   -0.023442 -0.114164 -0.075308 -0.047128 -0.023442 -0.096291   \n",
       "Independent    -0.039610 -0.192904 -0.127248 -0.079633 -0.039610 -0.162704   \n",
       "Kose           -0.005993 -0.029188 -0.019254 -0.012049 -0.005993 -0.024618   \n",
       "LG             -0.003448 -0.016793 -0.011078 -0.006933 -0.003448 -0.014164   \n",
       "LVMH           -0.017606 -0.085740 -0.056558 -0.035395 -0.017606 -0.072318   \n",
       "Loreal         -0.016793 -0.081784 -0.053949 -0.033762 -0.016793 -0.068981   \n",
       "Mark_Veder      1.000000 -0.016793 -0.011078 -0.006933 -0.003448 -0.014164   \n",
       "PE             -0.016793  1.000000 -0.053949 -0.033762 -0.016793 -0.068981   \n",
       "PG             -0.011078 -0.053949  1.000000 -0.022271 -0.011078 -0.045503   \n",
       "Puig           -0.006933 -0.033762 -0.022271  1.000000 -0.006933 -0.028476   \n",
       "SCJ            -0.003448 -0.016793 -0.011078 -0.006933  1.000000 -0.014164   \n",
       "Shiseido       -0.014164 -0.068981 -0.045503 -0.028476 -0.014164  1.000000   \n",
       "SpaceNK        -0.004885 -0.023790 -0.015693 -0.009821 -0.004885 -0.020066   \n",
       "Unilever       -0.021001 -0.102278 -0.067467 -0.042222 -0.021001 -0.086266   \n",
       "Price_per_OZ   -0.039369  0.116096 -0.052013 -0.038173 -0.000194 -0.008473   \n",
       "\n",
       "               SpaceNK  Unilever  Price_per_OZ  \n",
       "Price        -0.051897 -0.060638      0.951940  \n",
       "No_reviews   -0.033918 -0.038824     -0.192724  \n",
       "Hearts       -0.030163  0.010147     -0.174843  \n",
       "Size          0.086220 -0.058738     -0.160259  \n",
       "AHA          -0.027677  0.025737      0.030940  \n",
       "HA           -0.070183 -0.015868     -0.091644  \n",
       "AMOREPACIFIC -0.013987 -0.060131     -0.048245  \n",
       "Clarins      -0.012070 -0.051892      0.186994  \n",
       "Coty         -0.012070 -0.051892      0.086639  \n",
       "Edgewell     -0.004885 -0.021001     -0.056310  \n",
       "Estee_Lauder -0.033209 -0.142771      0.044895  \n",
       "Independent  -0.056114 -0.241242     -0.055103  \n",
       "Kose         -0.008490 -0.036502     -0.052401  \n",
       "LG           -0.004885 -0.021001     -0.023487  \n",
       "LVMH         -0.024941 -0.107225     -0.015875  \n",
       "Loreal       -0.023790 -0.102278     -0.008834  \n",
       "Mark_Veder   -0.004885 -0.021001     -0.039369  \n",
       "PE           -0.023790 -0.102278      0.116096  \n",
       "PG           -0.015693 -0.067467     -0.052013  \n",
       "Puig         -0.009821 -0.042222     -0.038173  \n",
       "SCJ          -0.004885 -0.021001     -0.000194  \n",
       "Shiseido     -0.020066 -0.086266     -0.008473  \n",
       "SpaceNK       1.000000 -0.029752     -0.060064  \n",
       "Unilever     -0.029752  1.000000     -0.037233  \n",
       "Price_per_OZ -0.060064 -0.037233      1.000000  \n",
       "\n",
       "[25 rows x 25 columns]"
      ]
     },
     "execution_count": 91,
     "metadata": {},
     "output_type": "execute_result"
    }
   ],
   "source": [
    "prod_df.corr()"
   ]
  },
  {
   "cell_type": "code",
   "execution_count": 93,
   "metadata": {},
   "outputs": [
    {
     "data": {
      "text/plain": [
       "<matplotlib.axes._subplots.AxesSubplot at 0x7fa2e53ab3d0>"
      ]
     },
     "execution_count": 93,
     "metadata": {},
     "output_type": "execute_result"
    },
    {
     "data": {
      "image/png": "[encoded data removed]",
      "text/plain": [
       "<Figure size 432x288 with 1 Axes>"
      ]
     },
     "metadata": {
      "needs_background": "light"
     },
     "output_type": "display_data"
    }
   ],
   "source": [
    "sns.distplot(prod_df['Price_per_OZ'])"
   ]
  },
  {
   "cell_type": "markdown",
   "metadata": {},
   "source": [
    "### Baseline Model & OLS Regression Summary"
   ]
  },
  {
   "cell_type": "code",
   "execution_count": 7,
   "metadata": {},
   "outputs": [],
   "source": [
    "PCIG_df = prod_df[['Price_per_OZ', 'No_reviews', 'Hearts', 'Size','AHA', 'HA','AMOREPACIFIC', 'Clarins',\n",
    "                    'Coty','Edgewell', 'Estee_Lauder', 'Independent', 'Kose', 'LG', 'LVMH',\n",
    "                    'Loreal', 'Mark_Veder', 'PE', 'PG', 'Puig', 'SCJ', 'Shiseido', 'SpaceNK', 'Unilever']]"
   ]
  },
  {
   "cell_type": "code",
   "execution_count": 8,
   "metadata": {},
   "outputs": [],
   "source": [
    "PCIG = PCIG_df.select_dtypes(exclude=['object']).copy()"
   ]
  },
  {
   "cell_type": "code",
   "execution_count": 95,
   "metadata": {},
   "outputs": [],
   "source": [
    "#Take out SCJ and Puig because dummy variables\n",
    "X = PCIG_df.loc[:,['No_reviews', 'Hearts', 'Size','AHA', 'HA','AMOREPACIFIC', 'Clarins',\n",
    "                    'Coty','Edgewell', 'Estee_Lauder', 'Independent', 'Kose', 'LG', 'LVMH',\n",
    "                    'Loreal', 'Mark_Veder', 'PE', 'PG', 'Shiseido', 'SpaceNK', 'Unilever']]\n",
    "\n",
    "y = PCIG_df['Price_per_OZ']"
   ]
  },
  {
   "cell_type": "code",
   "execution_count": 96,
   "metadata": {},
   "outputs": [
    {
     "data": {
      "text/html": [
       "<table class=\"simpletable\">\n",
       "<caption>OLS Regression Results</caption>\n",
       "<tr>\n",
       "  <th>Dep. Variable:</th>      <td>Price_per_OZ</td>   <th>  R-squared:         </th> <td>   0.147</td>\n",
       "</tr>\n",
       "<tr>\n",
       "  <th>Model:</th>                   <td>OLS</td>       <th>  Adj. R-squared:    </th> <td>   0.080</td>\n",
       "</tr>\n",
       "<tr>\n",
       "  <th>Method:</th>             <td>Least Squares</td>  <th>  F-statistic:       </th> <td>   2.205</td>\n",
       "</tr>\n",
       "<tr>\n",
       "  <th>Date:</th>             <td>Fri, 17 Jul 2020</td> <th>  Prob (F-statistic):</th>  <td>0.00220</td>\n",
       "</tr>\n",
       "<tr>\n",
       "  <th>Time:</th>                 <td>07:25:12</td>     <th>  Log-Likelihood:    </th> <td> -1404.0</td>\n",
       "</tr>\n",
       "<tr>\n",
       "  <th>No. Observations:</th>      <td>   291</td>      <th>  AIC:               </th> <td>   2852.</td>\n",
       "</tr>\n",
       "<tr>\n",
       "  <th>Df Residuals:</th>          <td>   269</td>      <th>  BIC:               </th> <td>   2933.</td>\n",
       "</tr>\n",
       "<tr>\n",
       "  <th>Df Model:</th>              <td>    21</td>      <th>                     </th>     <td> </td>   \n",
       "</tr>\n",
       "<tr>\n",
       "  <th>Covariance Type:</th>      <td>nonrobust</td>    <th>                     </th>     <td> </td>   \n",
       "</tr>\n",
       "</table>\n",
       "<table class=\"simpletable\">\n",
       "<tr>\n",
       "        <td></td>          <th>coef</th>     <th>std err</th>      <th>t</th>      <th>P>|t|</th>  <th>[0.025</th>    <th>0.975]</th>  \n",
       "</tr>\n",
       "<tr>\n",
       "  <th>const</th>        <td>   76.2806</td> <td>   17.289</td> <td>    4.412</td> <td> 0.000</td> <td>   42.242</td> <td>  110.319</td>\n",
       "</tr>\n",
       "<tr>\n",
       "  <th>No_reviews</th>   <td>   -0.0061</td> <td>    0.004</td> <td>   -1.750</td> <td> 0.081</td> <td>   -0.013</td> <td>    0.001</td>\n",
       "</tr>\n",
       "<tr>\n",
       "  <th>Hearts</th>       <td>-6.402e-05</td> <td> 8.18e-05</td> <td>   -0.783</td> <td> 0.435</td> <td>   -0.000</td> <td>  9.7e-05</td>\n",
       "</tr>\n",
       "<tr>\n",
       "  <th>Size</th>         <td>  -17.1242</td> <td>    5.762</td> <td>   -2.972</td> <td> 0.003</td> <td>  -28.469</td> <td>   -5.779</td>\n",
       "</tr>\n",
       "<tr>\n",
       "  <th>AHA</th>          <td>    2.2482</td> <td>    6.563</td> <td>    0.343</td> <td> 0.732</td> <td>  -10.674</td> <td>   15.170</td>\n",
       "</tr>\n",
       "<tr>\n",
       "  <th>HA</th>           <td>   -6.7161</td> <td>    4.065</td> <td>   -1.652</td> <td> 0.100</td> <td>  -14.719</td> <td>    1.287</td>\n",
       "</tr>\n",
       "<tr>\n",
       "  <th>AMOREPACIFIC</th> <td>   -3.9004</td> <td>   17.965</td> <td>   -0.217</td> <td> 0.828</td> <td>  -39.271</td> <td>   31.470</td>\n",
       "</tr>\n",
       "<tr>\n",
       "  <th>Clarins</th>      <td>   43.9434</td> <td>   19.082</td> <td>    2.303</td> <td> 0.022</td> <td>    6.375</td> <td>   81.511</td>\n",
       "</tr>\n",
       "<tr>\n",
       "  <th>Coty</th>         <td>   22.5444</td> <td>   19.060</td> <td>    1.183</td> <td> 0.238</td> <td>  -14.982</td> <td>   60.071</td>\n",
       "</tr>\n",
       "<tr>\n",
       "  <th>Edgewell</th>     <td>  -19.7560</td> <td>   34.568</td> <td>   -0.572</td> <td> 0.568</td> <td>  -87.814</td> <td>   48.302</td>\n",
       "</tr>\n",
       "<tr>\n",
       "  <th>Estee_Lauder</th> <td>   13.4738</td> <td>   14.914</td> <td>    0.903</td> <td> 0.367</td> <td>  -15.889</td> <td>   42.836</td>\n",
       "</tr>\n",
       "<tr>\n",
       "  <th>Independent</th>  <td>    3.9430</td> <td>   14.460</td> <td>    0.273</td> <td> 0.785</td> <td>  -24.527</td> <td>   32.413</td>\n",
       "</tr>\n",
       "<tr>\n",
       "  <th>Kose</th>         <td>   -4.5733</td> <td>   22.976</td> <td>   -0.199</td> <td> 0.842</td> <td>  -49.808</td> <td>   40.662</td>\n",
       "</tr>\n",
       "<tr>\n",
       "  <th>LG</th>           <td>   -0.4549</td> <td>   34.377</td> <td>   -0.013</td> <td> 0.989</td> <td>  -68.136</td> <td>   67.226</td>\n",
       "</tr>\n",
       "<tr>\n",
       "  <th>LVMH</th>         <td>    5.0452</td> <td>   15.465</td> <td>    0.326</td> <td> 0.745</td> <td>  -25.403</td> <td>   35.494</td>\n",
       "</tr>\n",
       "<tr>\n",
       "  <th>Loreal</th>       <td>    3.7717</td> <td>   15.560</td> <td>    0.242</td> <td> 0.809</td> <td>  -26.864</td> <td>   34.407</td>\n",
       "</tr>\n",
       "<tr>\n",
       "  <th>Mark_Veder</th>   <td>   -6.1587</td> <td>   34.439</td> <td>   -0.179</td> <td> 0.858</td> <td>  -73.963</td> <td>   61.646</td>\n",
       "</tr>\n",
       "<tr>\n",
       "  <th>PE</th>           <td>   20.5041</td> <td>   15.635</td> <td>    1.311</td> <td> 0.191</td> <td>  -10.279</td> <td>   51.287</td>\n",
       "</tr>\n",
       "<tr>\n",
       "  <th>PG</th>           <td>    4.1539</td> <td>   17.257</td> <td>    0.241</td> <td> 0.810</td> <td>  -29.822</td> <td>   38.130</td>\n",
       "</tr>\n",
       "<tr>\n",
       "  <th>Shiseido</th>     <td>   10.1870</td> <td>   16.172</td> <td>    0.630</td> <td> 0.529</td> <td>  -21.652</td> <td>   42.026</td>\n",
       "</tr>\n",
       "<tr>\n",
       "  <th>SpaceNK</th>      <td>  -15.6640</td> <td>   26.442</td> <td>   -0.592</td> <td> 0.554</td> <td>  -67.724</td> <td>   36.396</td>\n",
       "</tr>\n",
       "<tr>\n",
       "  <th>Unilever</th>     <td>    2.3518</td> <td>   15.114</td> <td>    0.156</td> <td> 0.876</td> <td>  -27.405</td> <td>   32.109</td>\n",
       "</tr>\n",
       "</table>\n",
       "<table class=\"simpletable\">\n",
       "<tr>\n",
       "  <th>Omnibus:</th>       <td>143.149</td> <th>  Durbin-Watson:     </th> <td>   1.906</td> \n",
       "</tr>\n",
       "<tr>\n",
       "  <th>Prob(Omnibus):</th> <td> 0.000</td>  <th>  Jarque-Bera (JB):  </th> <td> 703.309</td> \n",
       "</tr>\n",
       "<tr>\n",
       "  <th>Skew:</th>          <td> 2.045</td>  <th>  Prob(JB):          </th> <td>1.90e-153</td>\n",
       "</tr>\n",
       "<tr>\n",
       "  <th>Kurtosis:</th>      <td> 9.424</td>  <th>  Cond. No.          </th> <td>1.24e+06</td> \n",
       "</tr>\n",
       "</table><br/><br/>Warnings:<br/>[1] Standard Errors assume that the covariance matrix of the errors is correctly specified.<br/>[2] The condition number is large, 1.24e+06. This might indicate that there are<br/>strong multicollinearity or other numerical problems."
      ],
      "text/plain": [
       "<class 'statsmodels.iolib.summary.Summary'>\n",
       "\"\"\"\n",
       "                            OLS Regression Results                            \n",
       "==============================================================================\n",
       "Dep. Variable:           Price_per_OZ   R-squared:                       0.147\n",
       "Model:                            OLS   Adj. R-squared:                  0.080\n",
       "Method:                 Least Squares   F-statistic:                     2.205\n",
       "Date:                Fri, 17 Jul 2020   Prob (F-statistic):            0.00220\n",
       "Time:                        07:25:12   Log-Likelihood:                -1404.0\n",
       "No. Observations:                 291   AIC:                             2852.\n",
       "Df Residuals:                     269   BIC:                             2933.\n",
       "Df Model:                          21                                         \n",
       "Covariance Type:            nonrobust                                         \n",
       "================================================================================\n",
       "                   coef    std err          t      P>|t|      [0.025      0.975]\n",
       "--------------------------------------------------------------------------------\n",
       "const           76.2806     17.289      4.412      0.000      42.242     110.319\n",
       "No_reviews      -0.0061      0.004     -1.750      0.081      -0.013       0.001\n",
       "Hearts       -6.402e-05   8.18e-05     -0.783      0.435      -0.000     9.7e-05\n",
       "Size           -17.1242      5.762     -2.972      0.003     -28.469      -5.779\n",
       "AHA              2.2482      6.563      0.343      0.732     -10.674      15.170\n",
       "HA              -6.7161      4.065     -1.652      0.100     -14.719       1.287\n",
       "AMOREPACIFIC    -3.9004     17.965     -0.217      0.828     -39.271      31.470\n",
       "Clarins         43.9434     19.082      2.303      0.022       6.375      81.511\n",
       "Coty            22.5444     19.060      1.183      0.238     -14.982      60.071\n",
       "Edgewell       -19.7560     34.568     -0.572      0.568     -87.814      48.302\n",
       "Estee_Lauder    13.4738     14.914      0.903      0.367     -15.889      42.836\n",
       "Independent      3.9430     14.460      0.273      0.785     -24.527      32.413\n",
       "Kose            -4.5733     22.976     -0.199      0.842     -49.808      40.662\n",
       "LG              -0.4549     34.377     -0.013      0.989     -68.136      67.226\n",
       "LVMH             5.0452     15.465      0.326      0.745     -25.403      35.494\n",
       "Loreal           3.7717     15.560      0.242      0.809     -26.864      34.407\n",
       "Mark_Veder      -6.1587     34.439     -0.179      0.858     -73.963      61.646\n",
       "PE              20.5041     15.635      1.311      0.191     -10.279      51.287\n",
       "PG               4.1539     17.257      0.241      0.810     -29.822      38.130\n",
       "Shiseido        10.1870     16.172      0.630      0.529     -21.652      42.026\n",
       "SpaceNK        -15.6640     26.442     -0.592      0.554     -67.724      36.396\n",
       "Unilever         2.3518     15.114      0.156      0.876     -27.405      32.109\n",
       "==============================================================================\n",
       "Omnibus:                      143.149   Durbin-Watson:                   1.906\n",
       "Prob(Omnibus):                  0.000   Jarque-Bera (JB):              703.309\n",
       "Skew:                           2.045   Prob(JB):                    1.90e-153\n",
       "Kurtosis:                       9.424   Cond. No.                     1.24e+06\n",
       "==============================================================================\n",
       "\n",
       "Warnings:\n",
       "[1] Standard Errors assume that the covariance matrix of the errors is correctly specified.\n",
       "[2] The condition number is large, 1.24e+06. This might indicate that there are\n",
       "strong multicollinearity or other numerical problems.\n",
       "\"\"\""
      ]
     },
     "execution_count": 96,
     "metadata": {},
     "output_type": "execute_result"
    }
   ],
   "source": [
    "model = sm.OLS(y,sm.add_constant(X))\n",
    "results = model.fit()\n",
    "\n",
    "results.summary()"
   ]
  },
  {
   "cell_type": "code",
   "execution_count": 97,
   "metadata": {},
   "outputs": [
    {
     "data": {
      "text/plain": [
       "Text(0, 0.5, 'Residual')"
      ]
     },
     "execution_count": 97,
     "metadata": {},
     "output_type": "execute_result"
    },
    {
     "data": {
      "image/png": "[encoded data removed]",
      "text/plain": [
       "<Figure size 432x288 with 1 Axes>"
      ]
     },
     "metadata": {
      "needs_background": "light"
     },
     "output_type": "display_data"
    }
   ],
   "source": [
    "y_pred = results.predict(sm.add_constant(X))\n",
    "\n",
    "plt.scatter(y_pred,y-y_pred,alpha=.1)\n",
    "plt.plot(np.linspace(0,600000,1000),np.linspace(0,0,1000))\n",
    "plt.xlabel('Predicted Value')\n",
    "plt.ylabel('Residual')"
   ]
  },
  {
   "cell_type": "code",
   "execution_count": 100,
   "metadata": {},
   "outputs": [
    {
     "data": {
      "image/png": "[encoded data removed]",
      "text/plain": [
       "<Figure size 432x432 with 3 Axes>"
      ]
     },
     "metadata": {
      "needs_background": "light"
     },
     "output_type": "display_data"
    }
   ],
   "source": [
    "sns.jointplot('Size', 'Price_per_OZ', data=PCIG_df);"
   ]
  },
  {
   "cell_type": "code",
   "execution_count": 101,
   "metadata": {},
   "outputs": [],
   "source": [
    "def add_square_terms(df):    \n",
    "\n",
    "    df_poly = df.copy()\n",
    "    \n",
    "    for c in df.columns:\n",
    "        df_poly[c + '**2'] = df[c]**2\n",
    "        \n",
    "    return df_poly"
   ]
  },
  {
   "cell_type": "code",
   "execution_count": 102,
   "metadata": {},
   "outputs": [],
   "source": [
    "from sklearn.metrics import mean_squared_error\n",
    "\n",
    "def RMSE(actual, predicted):\n",
    "    return np.sqrt(mean_squared_error(actual,predicted))   "
   ]
  },
  {
   "cell_type": "code",
   "execution_count": 103,
   "metadata": {},
   "outputs": [
    {
     "name": "stdout",
     "output_type": "stream",
     "text": [
      "OLS regression score val R^2: -0.613\n",
      "OLS regression score val RMSE: 24.505 \n",
      "\n",
      "Degree 2 polynomial regression val R^2: -0.334\n",
      "Degree 2 polynomial regression score val RMSE: 22.288\n"
     ]
    }
   ],
   "source": [
    "from sklearn.model_selection import train_test_split\n",
    "\n",
    "X_train, X_val, y_train, y_val = train_test_split(X, y, test_size=.2, random_state=3)\n",
    "\n",
    "lm = LinearRegression()\n",
    "lm.fit(X_train, y_train)\n",
    "print('OLS regression score val R^2: %.3f' % lm.score(X_val, y_val))\n",
    "print('OLS regression score val RMSE: %.3f \\n' % RMSE(lm.predict(X_val), y_val))\n",
    "\n",
    "lm.fit(add_square_terms(X_train), y_train)\n",
    "print('Degree 2 polynomial regression val R^2: %.3f' \n",
    "      % lm.score(add_square_terms(X_val), y_val))\n",
    "print('Degree 2 polynomial regression score val RMSE: %.3f' \n",
    "      % RMSE(lm.predict(add_square_terms(X_val)), y_val))"
   ]
  },
  {
   "cell_type": "code",
   "execution_count": 104,
   "metadata": {},
   "outputs": [
    {
     "data": {
      "text/plain": [
       "Text(0, 0.5, 'Residual')"
      ]
     },
     "execution_count": 104,
     "metadata": {},
     "output_type": "execute_result"
    },
    {
     "data": {
      "image/png": "[encoded data removed]",
      "text/plain": [
       "<Figure size 432x288 with 1 Axes>"
      ]
     },
     "metadata": {
      "needs_background": "light"
     },
     "output_type": "display_data"
    }
   ],
   "source": [
    "y_pred = lm.predict(add_square_terms(X_val))\n",
    "\n",
    "plt.scatter(y_pred,y_val-y_pred,alpha=.1)\n",
    "plt.plot(np.linspace(0,600000,1000),np.linspace(0,0,1000))\n",
    "plt.xlabel('Predicted Value')\n",
    "plt.ylabel('Residual')"
   ]
  },
  {
   "cell_type": "code",
   "execution_count": 105,
   "metadata": {},
   "outputs": [
    {
     "data": {
      "text/plain": [
       "{'No_reviews': -0.029590218280186473,\n",
       " 'Hearts': -0.0001323163554223393,\n",
       " 'Size': -25.37813158807603,\n",
       " 'AHA': 4.097590458654356,\n",
       " 'HA': -5.218828743794428,\n",
       " 'AMOREPACIFIC': -11.527851016147585,\n",
       " 'Clarins': 21.369493735821145,\n",
       " 'Coty': 7.560669325243817,\n",
       " 'Edgewell': -2.1446030462612953e-06,\n",
       " 'Estee_Lauder': 4.603821744276976,\n",
       " 'Independent': -0.8333923218888757,\n",
       " 'Kose': 4.367981848964347,\n",
       " 'LG': 1.5747043072603242,\n",
       " 'LVMH': -0.3946279743659985,\n",
       " 'Loreal': -2.2291488218315587,\n",
       " 'Mark_Veder': -6.723125091312454e-06,\n",
       " 'PE': 7.016242499930824,\n",
       " 'PG': 0.5917715699756413,\n",
       " 'Shiseido': -0.7938898390121998,\n",
       " 'SpaceNK': -13.065248371008186,\n",
       " 'Unilever': -2.6070226600239383,\n",
       " 'No_reviews**2': 3.906287086671014e-06,\n",
       " 'Hearts**2': 1.2290728841820136e-09,\n",
       " 'Size**2': 1.4728630656486676,\n",
       " 'AHA**2': 4.097570501880045,\n",
       " 'HA**2': -5.218832796264391,\n",
       " 'AMOREPACIFIC**2': -11.527857710532658,\n",
       " 'Clarins**2': 21.369492976733277,\n",
       " 'Coty**2': 7.5606696760828225,\n",
       " 'Edgewell**2': 0.0,\n",
       " 'Estee_Lauder**2': 4.603824294530672,\n",
       " 'Independent**2': -0.8333947442343886,\n",
       " 'Kose**2': 4.367981877510229,\n",
       " 'LG**2': 1.5747006110890356,\n",
       " 'LVMH**2': -0.39463087407121455,\n",
       " 'Loreal**2': -2.229149075557396,\n",
       " 'Mark_Veder**2': 0.0,\n",
       " 'PE**2': 7.016242483776933,\n",
       " 'PG**2': 0.5917715699756388,\n",
       " 'Shiseido**2': -0.7938898390122036,\n",
       " 'SpaceNK**2': -13.065248371008186,\n",
       " 'Unilever**2': -2.607022660023951}"
      ]
     },
     "execution_count": 105,
     "metadata": {},
     "output_type": "execute_result"
    }
   ],
   "source": [
    "dict(zip(add_square_terms(X_train).columns, lm.coef_))"
   ]
  },
  {
   "cell_type": "code",
   "execution_count": 107,
   "metadata": {},
   "outputs": [
    {
     "name": "stdout",
     "output_type": "stream",
     "text": [
      "OLS regression with interaction terms val R^2: -14.070\n",
      "OLS regression with interaction terms val RMSE: 74.906\n"
     ]
    }
   ],
   "source": [
    "from sklearn.preprocessing import PolynomialFeatures\n",
    "\n",
    "interactions = PolynomialFeatures(degree=2, interaction_only=True)\n",
    "\n",
    "lm.fit(interactions.fit_transform(X_train), y_train)\n",
    "print('OLS regression with interaction terms val R^2: %.3f' % lm.score(interactions.transform(X_val), y_val))\n",
    "print('OLS regression with interaction terms val RMSE: %.3f' \n",
    "      % RMSE(lm.predict(interactions.fit_transform(X_val)), y_val))"
   ]
  },
  {
   "cell_type": "code",
   "execution_count": 108,
   "metadata": {},
   "outputs": [
    {
     "data": {
      "text/plain": [
       "-0.24005558979047278"
      ]
     },
     "execution_count": 108,
     "metadata": {},
     "output_type": "execute_result"
    }
   ],
   "source": [
    "from sklearn.ensemble import RandomForestRegressor, GradientBoostingRegressor\n",
    "\n",
    "rf = RandomForestRegressor(n_estimators=1800, max_features=3)\n",
    "rf.fit(X_train, y_train)\n",
    "rf.score(X_val, y_val)"
   ]
  },
  {
   "cell_type": "code",
   "execution_count": 109,
   "metadata": {},
   "outputs": [
    {
     "data": {
      "text/plain": [
       "21.487150597646206"
      ]
     },
     "execution_count": 109,
     "metadata": {},
     "output_type": "execute_result"
    }
   ],
   "source": [
    "RMSE(rf.predict(X_val),y_val)"
   ]
  },
  {
   "cell_type": "code",
   "execution_count": 10,
   "metadata": {},
   "outputs": [],
   "source": [
    "X_train_val, X_test, y_train_val, y_test = train_test_split(X, y, test_size=0.2,random_state=42)\n",
    "X_train, X_val, y_train, y_val = train_test_split(X_train_val, y_train_val, test_size=.25, random_state=43)"
   ]
  },
  {
   "cell_type": "code",
   "execution_count": 110,
   "metadata": {},
   "outputs": [
    {
     "data": {
      "text/plain": [
       "-0.37387303537794403"
      ]
     },
     "execution_count": 110,
     "metadata": {},
     "output_type": "execute_result"
    }
   ],
   "source": [
    "gbm = GradientBoostingRegressor(n_estimators=1600, max_depth=3, learning_rate=.01)\n",
    "gbm.fit(X_train, y_train)\n",
    "gbm.score(X_val, y_val)"
   ]
  },
  {
   "cell_type": "code",
   "execution_count": 111,
   "metadata": {},
   "outputs": [
    {
     "data": {
      "text/plain": [
       "22.61682045834289"
      ]
     },
     "execution_count": 111,
     "metadata": {},
     "output_type": "execute_result"
    }
   ],
   "source": [
    "RMSE(gbm.predict(X_val),y_val)"
   ]
  },
  {
   "cell_type": "code",
   "execution_count": 112,
   "metadata": {},
   "outputs": [
    {
     "data": {
      "text/plain": [
       "<matplotlib.axes._subplots.AxesSubplot at 0x7fa2e48c3fd0>"
      ]
     },
     "execution_count": 112,
     "metadata": {},
     "output_type": "execute_result"
    },
    {
     "data": {
      "image/png": "[encoded data removed]",
      "text/plain": [
       "<Figure size 432x288 with 1 Axes>"
      ]
     },
     "metadata": {
      "needs_background": "light"
     },
     "output_type": "display_data"
    }
   ],
   "source": []
  },
  {
   "cell_type": "code",
   "execution_count": 11,
   "metadata": {},
   "outputs": [
    {
     "data": {
      "text/plain": [
       "Index(['No_reviews', 'Hearts', 'Size', 'AHA', 'HA', 'AMOREPACIFIC', 'Clarins',\n",
       "       'Coty', 'Edgewell', 'Estee_Lauder', 'Independent', 'Kose', 'LG', 'LVMH',\n",
       "       'Loreal', 'Mark_Veder', 'PE', 'PG', 'Puig', 'SCJ', 'Shiseido',\n",
       "       'SpaceNK', 'Unilever'],\n",
       "      dtype='object')"
      ]
     },
     "execution_count": 11,
     "metadata": {},
     "output_type": "execute_result"
    }
   ],
   "source": [
    "X_train.columns"
   ]
  },
  {
   "cell_type": "code",
   "execution_count": 12,
   "metadata": {},
   "outputs": [
    {
     "data": {
      "text/plain": [
       "(174, 23)"
      ]
     },
     "execution_count": 12,
     "metadata": {},
     "output_type": "execute_result"
    }
   ],
   "source": [
    "X_train.shape"
   ]
  },
  {
   "cell_type": "code",
   "execution_count": 13,
   "metadata": {},
   "outputs": [
    {
     "data": {
      "text/plain": [
       "(58, 23)"
      ]
     },
     "execution_count": 13,
     "metadata": {},
     "output_type": "execute_result"
    }
   ],
   "source": [
    "X_val.shape"
   ]
  },
  {
   "cell_type": "code",
   "execution_count": 14,
   "metadata": {},
   "outputs": [
    {
     "data": {
      "text/plain": [
       "(59, 23)"
      ]
     },
     "execution_count": 14,
     "metadata": {},
     "output_type": "execute_result"
    }
   ],
   "source": [
    "X_test.shape"
   ]
  },
  {
   "cell_type": "code",
   "execution_count": 15,
   "metadata": {},
   "outputs": [],
   "source": [
    "selected_columns = ['No_reviews', 'Hearts', 'Size', 'AHA', 'HA', 'AMOREPACIFIC', 'Clarins', \n",
    "                    'Coty', 'Edgewell', 'Estee_Lauder', 'Independent', 'Kose', 'LG', 'LVMH', \n",
    "                    'Loreal', 'Mark_Veder', 'PE', 'PG', 'Puig', 'SCJ', 'Shiseido', \n",
    "                    'SpaceNK', 'Unilever']"
   ]
  },
  {
   "cell_type": "code",
   "execution_count": 16,
   "metadata": {},
   "outputs": [
    {
     "name": "stdout",
     "output_type": "stream",
     "text": [
      "<class 'pandas.core.frame.DataFrame'>\n",
      "Int64Index: 174 entries, 287 to 164\n",
      "Data columns (total 23 columns):\n",
      "No_reviews      174 non-null int64\n",
      "Hearts          174 non-null int64\n",
      "Size            174 non-null float64\n",
      "AHA             174 non-null int64\n",
      "HA              174 non-null int64\n",
      "AMOREPACIFIC    174 non-null float64\n",
      "Clarins         174 non-null float64\n",
      "Coty            174 non-null float64\n",
      "Edgewell        174 non-null float64\n",
      "Estee_Lauder    174 non-null float64\n",
      "Independent     174 non-null float64\n",
      "Kose            174 non-null float64\n",
      "LG              174 non-null float64\n",
      "LVMH            174 non-null float64\n",
      "Loreal          174 non-null float64\n",
      "Mark_Veder      174 non-null float64\n",
      "PE              174 non-null float64\n",
      "PG              174 non-null float64\n",
      "Puig            174 non-null float64\n",
      "SCJ             174 non-null float64\n",
      "Shiseido        174 non-null float64\n",
      "SpaceNK         174 non-null float64\n",
      "Unilever        174 non-null float64\n",
      "dtypes: float64(19), int64(4)\n",
      "memory usage: 32.6 KB\n"
     ]
    }
   ],
   "source": [
    "X_train.info()"
   ]
  },
  {
   "cell_type": "code",
   "execution_count": 17,
   "metadata": {},
   "outputs": [
    {
     "data": {
      "text/plain": [
       "Lasso(alpha=1, copy_X=True, fit_intercept=True, max_iter=1000, normalize=False,\n",
       "      positive=False, precompute=False, random_state=None, selection='cyclic',\n",
       "      tol=0.0001, warm_start=False)"
      ]
     },
     "execution_count": 17,
     "metadata": {},
     "output_type": "execute_result"
    }
   ],
   "source": [
    "lasso_model = Lasso(alpha = 1) \n",
    "lasso_model.fit(X_train.loc[:,selected_columns], y_train) #alpha is pythons lambda"
   ]
  },
  {
   "cell_type": "code",
   "execution_count": 18,
   "metadata": {},
   "outputs": [
    {
     "data": {
      "text/plain": [
       "[('No_reviews', -0.008959387350609051),\n",
       " ('Hearts', 1.2035777898630225e-05),\n",
       " ('Size', -4.545750954832162),\n",
       " ('AHA', -0.0),\n",
       " ('HA', -7.090686658887938),\n",
       " ('AMOREPACIFIC', -0.0),\n",
       " ('Clarins', 0.0),\n",
       " ('Coty', 0.0),\n",
       " ('Edgewell', 0.0),\n",
       " ('Estee_Lauder', 0.0),\n",
       " ('Independent', -4.649969141950212),\n",
       " ('Kose', -0.0),\n",
       " ('LG', -0.0),\n",
       " ('LVMH', -0.0),\n",
       " ('Loreal', -0.0),\n",
       " ('Mark_Veder', -0.0),\n",
       " ('PE', 0.0),\n",
       " ('PG', -0.0),\n",
       " ('Puig', -0.0),\n",
       " ('SCJ', 0.0),\n",
       " ('Shiseido', -0.0),\n",
       " ('SpaceNK', -0.0),\n",
       " ('Unilever', -0.0)]"
      ]
     },
     "execution_count": 18,
     "metadata": {},
     "output_type": "execute_result"
    }
   ],
   "source": [
    "list(zip(selected_columns, lasso_model.coef_))"
   ]
  },
  {
   "cell_type": "code",
   "execution_count": 52,
   "metadata": {},
   "outputs": [
    {
     "data": {
      "text/html": [
       "<div>\n",
       "<style scoped>\n",
       "    .dataframe tbody tr th:only-of-type {\n",
       "        vertical-align: middle;\n",
       "    }\n",
       "\n",
       "    .dataframe tbody tr th {\n",
       "        vertical-align: top;\n",
       "    }\n",
       "\n",
       "    .dataframe thead th {\n",
       "        text-align: right;\n",
       "    }\n",
       "</style>\n",
       "<table border=\"1\" class=\"dataframe\">\n",
       "  <thead>\n",
       "    <tr style=\"text-align: right;\">\n",
       "      <th></th>\n",
       "      <th>No_reviews</th>\n",
       "      <th>Hearts</th>\n",
       "      <th>Size</th>\n",
       "      <th>AHA</th>\n",
       "      <th>HA</th>\n",
       "      <th>AMOREPACIFIC</th>\n",
       "      <th>Clarins</th>\n",
       "      <th>Coty</th>\n",
       "      <th>Edgewell</th>\n",
       "      <th>Estee_Lauder</th>\n",
       "      <th>...</th>\n",
       "      <th>LVMH</th>\n",
       "      <th>Loreal</th>\n",
       "      <th>Mark_Veder</th>\n",
       "      <th>PE</th>\n",
       "      <th>PG</th>\n",
       "      <th>Puig</th>\n",
       "      <th>SCJ</th>\n",
       "      <th>Shiseido</th>\n",
       "      <th>SpaceNK</th>\n",
       "      <th>Unilever</th>\n",
       "    </tr>\n",
       "  </thead>\n",
       "  <tbody>\n",
       "    <tr>\n",
       "      <td>No_reviews</td>\n",
       "      <td>1.000000</td>\n",
       "      <td>0.693412</td>\n",
       "      <td>-0.058875</td>\n",
       "      <td>0.203820</td>\n",
       "      <td>-0.065250</td>\n",
       "      <td>-0.057323</td>\n",
       "      <td>-0.022391</td>\n",
       "      <td>-0.057370</td>\n",
       "      <td>NaN</td>\n",
       "      <td>-0.004705</td>\n",
       "      <td>...</td>\n",
       "      <td>0.084014</td>\n",
       "      <td>-0.006481</td>\n",
       "      <td>0.045253</td>\n",
       "      <td>-0.096773</td>\n",
       "      <td>-0.002665</td>\n",
       "      <td>0.012368</td>\n",
       "      <td>NaN</td>\n",
       "      <td>0.043883</td>\n",
       "      <td>-0.050953</td>\n",
       "      <td>-0.011391</td>\n",
       "    </tr>\n",
       "    <tr>\n",
       "      <td>Hearts</td>\n",
       "      <td>0.693412</td>\n",
       "      <td>1.000000</td>\n",
       "      <td>-0.037553</td>\n",
       "      <td>-0.005441</td>\n",
       "      <td>0.024703</td>\n",
       "      <td>-0.064438</td>\n",
       "      <td>-0.070299</td>\n",
       "      <td>-0.042815</td>\n",
       "      <td>NaN</td>\n",
       "      <td>0.067345</td>\n",
       "      <td>...</td>\n",
       "      <td>0.095383</td>\n",
       "      <td>-0.012251</td>\n",
       "      <td>0.059314</td>\n",
       "      <td>-0.100908</td>\n",
       "      <td>0.014331</td>\n",
       "      <td>-0.039748</td>\n",
       "      <td>NaN</td>\n",
       "      <td>0.119415</td>\n",
       "      <td>-0.039971</td>\n",
       "      <td>0.078634</td>\n",
       "    </tr>\n",
       "    <tr>\n",
       "      <td>Size</td>\n",
       "      <td>-0.058875</td>\n",
       "      <td>-0.037553</td>\n",
       "      <td>1.000000</td>\n",
       "      <td>-0.006351</td>\n",
       "      <td>0.057567</td>\n",
       "      <td>0.031349</td>\n",
       "      <td>-0.074843</td>\n",
       "      <td>-0.000167</td>\n",
       "      <td>NaN</td>\n",
       "      <td>0.103703</td>\n",
       "      <td>...</td>\n",
       "      <td>-0.006563</td>\n",
       "      <td>-0.149250</td>\n",
       "      <td>-0.000096</td>\n",
       "      <td>0.156616</td>\n",
       "      <td>0.028079</td>\n",
       "      <td>-0.000136</td>\n",
       "      <td>NaN</td>\n",
       "      <td>-0.002270</td>\n",
       "      <td>0.103341</td>\n",
       "      <td>-0.102526</td>\n",
       "    </tr>\n",
       "    <tr>\n",
       "      <td>AHA</td>\n",
       "      <td>0.203820</td>\n",
       "      <td>-0.005441</td>\n",
       "      <td>-0.006351</td>\n",
       "      <td>1.000000</td>\n",
       "      <td>-0.253173</td>\n",
       "      <td>-0.043588</td>\n",
       "      <td>-0.043588</td>\n",
       "      <td>-0.037638</td>\n",
       "      <td>NaN</td>\n",
       "      <td>-0.054079</td>\n",
       "      <td>...</td>\n",
       "      <td>-0.087278</td>\n",
       "      <td>-0.073818</td>\n",
       "      <td>-0.021604</td>\n",
       "      <td>0.157026</td>\n",
       "      <td>-0.048877</td>\n",
       "      <td>-0.030641</td>\n",
       "      <td>NaN</td>\n",
       "      <td>-0.073818</td>\n",
       "      <td>-0.030641</td>\n",
       "      <td>-0.038176</td>\n",
       "    </tr>\n",
       "    <tr>\n",
       "      <td>HA</td>\n",
       "      <td>-0.065250</td>\n",
       "      <td>0.024703</td>\n",
       "      <td>0.057567</td>\n",
       "      <td>-0.253173</td>\n",
       "      <td>1.000000</td>\n",
       "      <td>0.017749</td>\n",
       "      <td>-0.059459</td>\n",
       "      <td>0.059772</td>\n",
       "      <td>NaN</td>\n",
       "      <td>0.129866</td>\n",
       "      <td>...</td>\n",
       "      <td>0.014927</td>\n",
       "      <td>0.101380</td>\n",
       "      <td>0.085333</td>\n",
       "      <td>-0.093392</td>\n",
       "      <td>0.054533</td>\n",
       "      <td>0.012477</td>\n",
       "      <td>NaN</td>\n",
       "      <td>0.101380</td>\n",
       "      <td>-0.096075</td>\n",
       "      <td>-0.045930</td>\n",
       "    </tr>\n",
       "    <tr>\n",
       "      <td>AMOREPACIFIC</td>\n",
       "      <td>-0.057323</td>\n",
       "      <td>-0.064438</td>\n",
       "      <td>0.031349</td>\n",
       "      <td>-0.043588</td>\n",
       "      <td>0.017749</td>\n",
       "      <td>1.000000</td>\n",
       "      <td>-0.023529</td>\n",
       "      <td>-0.020317</td>\n",
       "      <td>NaN</td>\n",
       "      <td>-0.062832</td>\n",
       "      <td>...</td>\n",
       "      <td>-0.047114</td>\n",
       "      <td>-0.039848</td>\n",
       "      <td>-0.011662</td>\n",
       "      <td>-0.045374</td>\n",
       "      <td>-0.026384</td>\n",
       "      <td>-0.016541</td>\n",
       "      <td>NaN</td>\n",
       "      <td>-0.039848</td>\n",
       "      <td>-0.016541</td>\n",
       "      <td>-0.056829</td>\n",
       "    </tr>\n",
       "    <tr>\n",
       "      <td>Clarins</td>\n",
       "      <td>-0.022391</td>\n",
       "      <td>-0.070299</td>\n",
       "      <td>-0.074843</td>\n",
       "      <td>-0.043588</td>\n",
       "      <td>-0.059459</td>\n",
       "      <td>-0.023529</td>\n",
       "      <td>1.000000</td>\n",
       "      <td>-0.020317</td>\n",
       "      <td>NaN</td>\n",
       "      <td>-0.062832</td>\n",
       "      <td>...</td>\n",
       "      <td>-0.047114</td>\n",
       "      <td>-0.039848</td>\n",
       "      <td>-0.011662</td>\n",
       "      <td>-0.045374</td>\n",
       "      <td>-0.026384</td>\n",
       "      <td>-0.016541</td>\n",
       "      <td>NaN</td>\n",
       "      <td>-0.039848</td>\n",
       "      <td>-0.016541</td>\n",
       "      <td>-0.056829</td>\n",
       "    </tr>\n",
       "    <tr>\n",
       "      <td>Coty</td>\n",
       "      <td>-0.057370</td>\n",
       "      <td>-0.042815</td>\n",
       "      <td>-0.000167</td>\n",
       "      <td>-0.037638</td>\n",
       "      <td>0.059772</td>\n",
       "      <td>-0.020317</td>\n",
       "      <td>-0.020317</td>\n",
       "      <td>1.000000</td>\n",
       "      <td>NaN</td>\n",
       "      <td>-0.054255</td>\n",
       "      <td>...</td>\n",
       "      <td>-0.040683</td>\n",
       "      <td>-0.034408</td>\n",
       "      <td>-0.010070</td>\n",
       "      <td>-0.039180</td>\n",
       "      <td>-0.022783</td>\n",
       "      <td>-0.014283</td>\n",
       "      <td>NaN</td>\n",
       "      <td>-0.034408</td>\n",
       "      <td>-0.014283</td>\n",
       "      <td>-0.049071</td>\n",
       "    </tr>\n",
       "    <tr>\n",
       "      <td>Edgewell</td>\n",
       "      <td>NaN</td>\n",
       "      <td>NaN</td>\n",
       "      <td>NaN</td>\n",
       "      <td>NaN</td>\n",
       "      <td>NaN</td>\n",
       "      <td>NaN</td>\n",
       "      <td>NaN</td>\n",
       "      <td>NaN</td>\n",
       "      <td>NaN</td>\n",
       "      <td>NaN</td>\n",
       "      <td>...</td>\n",
       "      <td>NaN</td>\n",
       "      <td>NaN</td>\n",
       "      <td>NaN</td>\n",
       "      <td>NaN</td>\n",
       "      <td>NaN</td>\n",
       "      <td>NaN</td>\n",
       "      <td>NaN</td>\n",
       "      <td>NaN</td>\n",
       "      <td>NaN</td>\n",
       "      <td>NaN</td>\n",
       "    </tr>\n",
       "    <tr>\n",
       "      <td>Estee_Lauder</td>\n",
       "      <td>-0.004705</td>\n",
       "      <td>0.067345</td>\n",
       "      <td>0.103703</td>\n",
       "      <td>-0.054079</td>\n",
       "      <td>0.129866</td>\n",
       "      <td>-0.062832</td>\n",
       "      <td>-0.062832</td>\n",
       "      <td>-0.054255</td>\n",
       "      <td>NaN</td>\n",
       "      <td>1.000000</td>\n",
       "      <td>...</td>\n",
       "      <td>-0.125813</td>\n",
       "      <td>-0.106409</td>\n",
       "      <td>-0.031143</td>\n",
       "      <td>-0.121166</td>\n",
       "      <td>-0.070456</td>\n",
       "      <td>-0.044170</td>\n",
       "      <td>NaN</td>\n",
       "      <td>-0.106409</td>\n",
       "      <td>-0.044170</td>\n",
       "      <td>-0.151754</td>\n",
       "    </tr>\n",
       "    <tr>\n",
       "      <td>Independent</td>\n",
       "      <td>0.010076</td>\n",
       "      <td>-0.104840</td>\n",
       "      <td>-0.031499</td>\n",
       "      <td>0.187360</td>\n",
       "      <td>-0.147478</td>\n",
       "      <td>-0.102899</td>\n",
       "      <td>-0.102899</td>\n",
       "      <td>-0.088852</td>\n",
       "      <td>NaN</td>\n",
       "      <td>-0.274779</td>\n",
       "      <td>...</td>\n",
       "      <td>-0.206041</td>\n",
       "      <td>-0.174264</td>\n",
       "      <td>-0.051002</td>\n",
       "      <td>-0.198431</td>\n",
       "      <td>-0.115385</td>\n",
       "      <td>-0.072336</td>\n",
       "      <td>NaN</td>\n",
       "      <td>-0.174264</td>\n",
       "      <td>-0.072336</td>\n",
       "      <td>-0.248525</td>\n",
       "    </tr>\n",
       "    <tr>\n",
       "      <td>Kose</td>\n",
       "      <td>0.175269</td>\n",
       "      <td>0.019509</td>\n",
       "      <td>-0.018856</td>\n",
       "      <td>-0.021604</td>\n",
       "      <td>-0.067739</td>\n",
       "      <td>-0.011662</td>\n",
       "      <td>-0.011662</td>\n",
       "      <td>-0.010070</td>\n",
       "      <td>NaN</td>\n",
       "      <td>-0.031143</td>\n",
       "      <td>...</td>\n",
       "      <td>-0.023352</td>\n",
       "      <td>-0.019751</td>\n",
       "      <td>-0.005780</td>\n",
       "      <td>-0.022490</td>\n",
       "      <td>-0.013077</td>\n",
       "      <td>-0.008198</td>\n",
       "      <td>NaN</td>\n",
       "      <td>-0.019751</td>\n",
       "      <td>-0.008198</td>\n",
       "      <td>-0.028167</td>\n",
       "    </tr>\n",
       "    <tr>\n",
       "      <td>LG</td>\n",
       "      <td>0.021733</td>\n",
       "      <td>-0.003010</td>\n",
       "      <td>-0.000096</td>\n",
       "      <td>-0.021604</td>\n",
       "      <td>0.085333</td>\n",
       "      <td>-0.011662</td>\n",
       "      <td>-0.011662</td>\n",
       "      <td>-0.010070</td>\n",
       "      <td>NaN</td>\n",
       "      <td>-0.031143</td>\n",
       "      <td>...</td>\n",
       "      <td>-0.023352</td>\n",
       "      <td>-0.019751</td>\n",
       "      <td>-0.005780</td>\n",
       "      <td>-0.022490</td>\n",
       "      <td>-0.013077</td>\n",
       "      <td>-0.008198</td>\n",
       "      <td>NaN</td>\n",
       "      <td>-0.019751</td>\n",
       "      <td>-0.008198</td>\n",
       "      <td>-0.028167</td>\n",
       "    </tr>\n",
       "    <tr>\n",
       "      <td>LVMH</td>\n",
       "      <td>0.084014</td>\n",
       "      <td>0.095383</td>\n",
       "      <td>-0.006563</td>\n",
       "      <td>-0.087278</td>\n",
       "      <td>0.014927</td>\n",
       "      <td>-0.047114</td>\n",
       "      <td>-0.047114</td>\n",
       "      <td>-0.040683</td>\n",
       "      <td>NaN</td>\n",
       "      <td>-0.125813</td>\n",
       "      <td>...</td>\n",
       "      <td>1.000000</td>\n",
       "      <td>-0.079790</td>\n",
       "      <td>-0.023352</td>\n",
       "      <td>-0.090855</td>\n",
       "      <td>-0.052831</td>\n",
       "      <td>-0.033121</td>\n",
       "      <td>NaN</td>\n",
       "      <td>-0.079790</td>\n",
       "      <td>-0.033121</td>\n",
       "      <td>-0.113792</td>\n",
       "    </tr>\n",
       "    <tr>\n",
       "      <td>Loreal</td>\n",
       "      <td>-0.006481</td>\n",
       "      <td>-0.012251</td>\n",
       "      <td>-0.149250</td>\n",
       "      <td>-0.073818</td>\n",
       "      <td>0.101380</td>\n",
       "      <td>-0.039848</td>\n",
       "      <td>-0.039848</td>\n",
       "      <td>-0.034408</td>\n",
       "      <td>NaN</td>\n",
       "      <td>-0.106409</td>\n",
       "      <td>...</td>\n",
       "      <td>-0.079790</td>\n",
       "      <td>1.000000</td>\n",
       "      <td>-0.019751</td>\n",
       "      <td>-0.076843</td>\n",
       "      <td>-0.044683</td>\n",
       "      <td>-0.028013</td>\n",
       "      <td>NaN</td>\n",
       "      <td>-0.067485</td>\n",
       "      <td>-0.028013</td>\n",
       "      <td>-0.096242</td>\n",
       "    </tr>\n",
       "    <tr>\n",
       "      <td>Mark_Veder</td>\n",
       "      <td>0.045253</td>\n",
       "      <td>0.059314</td>\n",
       "      <td>-0.000096</td>\n",
       "      <td>-0.021604</td>\n",
       "      <td>0.085333</td>\n",
       "      <td>-0.011662</td>\n",
       "      <td>-0.011662</td>\n",
       "      <td>-0.010070</td>\n",
       "      <td>NaN</td>\n",
       "      <td>-0.031143</td>\n",
       "      <td>...</td>\n",
       "      <td>-0.023352</td>\n",
       "      <td>-0.019751</td>\n",
       "      <td>1.000000</td>\n",
       "      <td>-0.022490</td>\n",
       "      <td>-0.013077</td>\n",
       "      <td>-0.008198</td>\n",
       "      <td>NaN</td>\n",
       "      <td>-0.019751</td>\n",
       "      <td>-0.008198</td>\n",
       "      <td>-0.028167</td>\n",
       "    </tr>\n",
       "    <tr>\n",
       "      <td>PE</td>\n",
       "      <td>-0.096773</td>\n",
       "      <td>-0.100908</td>\n",
       "      <td>0.156616</td>\n",
       "      <td>0.157026</td>\n",
       "      <td>-0.093392</td>\n",
       "      <td>-0.045374</td>\n",
       "      <td>-0.045374</td>\n",
       "      <td>-0.039180</td>\n",
       "      <td>NaN</td>\n",
       "      <td>-0.121166</td>\n",
       "      <td>...</td>\n",
       "      <td>-0.090855</td>\n",
       "      <td>-0.076843</td>\n",
       "      <td>-0.022490</td>\n",
       "      <td>1.000000</td>\n",
       "      <td>-0.050880</td>\n",
       "      <td>-0.031897</td>\n",
       "      <td>NaN</td>\n",
       "      <td>-0.076843</td>\n",
       "      <td>-0.031897</td>\n",
       "      <td>-0.109589</td>\n",
       "    </tr>\n",
       "    <tr>\n",
       "      <td>PG</td>\n",
       "      <td>-0.002665</td>\n",
       "      <td>0.014331</td>\n",
       "      <td>0.028079</td>\n",
       "      <td>-0.048877</td>\n",
       "      <td>0.054533</td>\n",
       "      <td>-0.026384</td>\n",
       "      <td>-0.026384</td>\n",
       "      <td>-0.022783</td>\n",
       "      <td>NaN</td>\n",
       "      <td>-0.070456</td>\n",
       "      <td>...</td>\n",
       "      <td>-0.052831</td>\n",
       "      <td>-0.044683</td>\n",
       "      <td>-0.013077</td>\n",
       "      <td>-0.050880</td>\n",
       "      <td>1.000000</td>\n",
       "      <td>-0.018548</td>\n",
       "      <td>NaN</td>\n",
       "      <td>-0.044683</td>\n",
       "      <td>-0.018548</td>\n",
       "      <td>-0.063724</td>\n",
       "    </tr>\n",
       "    <tr>\n",
       "      <td>Puig</td>\n",
       "      <td>0.012368</td>\n",
       "      <td>-0.039748</td>\n",
       "      <td>-0.000136</td>\n",
       "      <td>-0.030641</td>\n",
       "      <td>0.012477</td>\n",
       "      <td>-0.016541</td>\n",
       "      <td>-0.016541</td>\n",
       "      <td>-0.014283</td>\n",
       "      <td>NaN</td>\n",
       "      <td>-0.044170</td>\n",
       "      <td>...</td>\n",
       "      <td>-0.033121</td>\n",
       "      <td>-0.028013</td>\n",
       "      <td>-0.008198</td>\n",
       "      <td>-0.031897</td>\n",
       "      <td>-0.018548</td>\n",
       "      <td>1.000000</td>\n",
       "      <td>NaN</td>\n",
       "      <td>-0.028013</td>\n",
       "      <td>-0.011628</td>\n",
       "      <td>-0.039950</td>\n",
       "    </tr>\n",
       "    <tr>\n",
       "      <td>SCJ</td>\n",
       "      <td>NaN</td>\n",
       "      <td>NaN</td>\n",
       "      <td>NaN</td>\n",
       "      <td>NaN</td>\n",
       "      <td>NaN</td>\n",
       "      <td>NaN</td>\n",
       "      <td>NaN</td>\n",
       "      <td>NaN</td>\n",
       "      <td>NaN</td>\n",
       "      <td>NaN</td>\n",
       "      <td>...</td>\n",
       "      <td>NaN</td>\n",
       "      <td>NaN</td>\n",
       "      <td>NaN</td>\n",
       "      <td>NaN</td>\n",
       "      <td>NaN</td>\n",
       "      <td>NaN</td>\n",
       "      <td>NaN</td>\n",
       "      <td>NaN</td>\n",
       "      <td>NaN</td>\n",
       "      <td>NaN</td>\n",
       "    </tr>\n",
       "    <tr>\n",
       "      <td>Shiseido</td>\n",
       "      <td>0.043883</td>\n",
       "      <td>0.119415</td>\n",
       "      <td>-0.002270</td>\n",
       "      <td>-0.073818</td>\n",
       "      <td>0.101380</td>\n",
       "      <td>-0.039848</td>\n",
       "      <td>-0.039848</td>\n",
       "      <td>-0.034408</td>\n",
       "      <td>NaN</td>\n",
       "      <td>-0.106409</td>\n",
       "      <td>...</td>\n",
       "      <td>-0.079790</td>\n",
       "      <td>-0.067485</td>\n",
       "      <td>-0.019751</td>\n",
       "      <td>-0.076843</td>\n",
       "      <td>-0.044683</td>\n",
       "      <td>-0.028013</td>\n",
       "      <td>NaN</td>\n",
       "      <td>1.000000</td>\n",
       "      <td>-0.028013</td>\n",
       "      <td>-0.096242</td>\n",
       "    </tr>\n",
       "    <tr>\n",
       "      <td>SpaceNK</td>\n",
       "      <td>-0.050953</td>\n",
       "      <td>-0.039971</td>\n",
       "      <td>0.103341</td>\n",
       "      <td>-0.030641</td>\n",
       "      <td>-0.096075</td>\n",
       "      <td>-0.016541</td>\n",
       "      <td>-0.016541</td>\n",
       "      <td>-0.014283</td>\n",
       "      <td>NaN</td>\n",
       "      <td>-0.044170</td>\n",
       "      <td>...</td>\n",
       "      <td>-0.033121</td>\n",
       "      <td>-0.028013</td>\n",
       "      <td>-0.008198</td>\n",
       "      <td>-0.031897</td>\n",
       "      <td>-0.018548</td>\n",
       "      <td>-0.011628</td>\n",
       "      <td>NaN</td>\n",
       "      <td>-0.028013</td>\n",
       "      <td>1.000000</td>\n",
       "      <td>-0.039950</td>\n",
       "    </tr>\n",
       "    <tr>\n",
       "      <td>Unilever</td>\n",
       "      <td>-0.011391</td>\n",
       "      <td>0.078634</td>\n",
       "      <td>-0.102526</td>\n",
       "      <td>-0.038176</td>\n",
       "      <td>-0.045930</td>\n",
       "      <td>-0.056829</td>\n",
       "      <td>-0.056829</td>\n",
       "      <td>-0.049071</td>\n",
       "      <td>NaN</td>\n",
       "      <td>-0.151754</td>\n",
       "      <td>...</td>\n",
       "      <td>-0.113792</td>\n",
       "      <td>-0.096242</td>\n",
       "      <td>-0.028167</td>\n",
       "      <td>-0.109589</td>\n",
       "      <td>-0.063724</td>\n",
       "      <td>-0.039950</td>\n",
       "      <td>NaN</td>\n",
       "      <td>-0.096242</td>\n",
       "      <td>-0.039950</td>\n",
       "      <td>1.000000</td>\n",
       "    </tr>\n",
       "  </tbody>\n",
       "</table>\n",
       "<p>23 rows × 23 columns</p>\n",
       "</div>"
      ],
      "text/plain": [
       "              No_reviews    Hearts      Size       AHA        HA  \\\n",
       "No_reviews      1.000000  0.693412 -0.058875  0.203820 -0.065250   \n",
       "Hearts          0.693412  1.000000 -0.037553 -0.005441  0.024703   \n",
       "Size           -0.058875 -0.037553  1.000000 -0.006351  0.057567   \n",
       "AHA             0.203820 -0.005441 -0.006351  1.000000 -0.253173   \n",
       "HA             -0.065250  0.024703  0.057567 -0.253173  1.000000   \n",
       "AMOREPACIFIC   -0.057323 -0.064438  0.031349 -0.043588  0.017749   \n",
       "Clarins        -0.022391 -0.070299 -0.074843 -0.043588 -0.059459   \n",
       "Coty           -0.057370 -0.042815 -0.000167 -0.037638  0.059772   \n",
       "Edgewell             NaN       NaN       NaN       NaN       NaN   \n",
       "Estee_Lauder   -0.004705  0.067345  0.103703 -0.054079  0.129866   \n",
       "Independent     0.010076 -0.104840 -0.031499  0.187360 -0.147478   \n",
       "Kose            0.175269  0.019509 -0.018856 -0.021604 -0.067739   \n",
       "LG              0.021733 -0.003010 -0.000096 -0.021604  0.085333   \n",
       "LVMH            0.084014  0.095383 -0.006563 -0.087278  0.014927   \n",
       "Loreal         -0.006481 -0.012251 -0.149250 -0.073818  0.101380   \n",
       "Mark_Veder      0.045253  0.059314 -0.000096 -0.021604  0.085333   \n",
       "PE             -0.096773 -0.100908  0.156616  0.157026 -0.093392   \n",
       "PG             -0.002665  0.014331  0.028079 -0.048877  0.054533   \n",
       "Puig            0.012368 -0.039748 -0.000136 -0.030641  0.012477   \n",
       "SCJ                  NaN       NaN       NaN       NaN       NaN   \n",
       "Shiseido        0.043883  0.119415 -0.002270 -0.073818  0.101380   \n",
       "SpaceNK        -0.050953 -0.039971  0.103341 -0.030641 -0.096075   \n",
       "Unilever       -0.011391  0.078634 -0.102526 -0.038176 -0.045930   \n",
       "\n",
       "              AMOREPACIFIC   Clarins      Coty  Edgewell  Estee_Lauder  ...  \\\n",
       "No_reviews       -0.057323 -0.022391 -0.057370       NaN     -0.004705  ...   \n",
       "Hearts           -0.064438 -0.070299 -0.042815       NaN      0.067345  ...   \n",
       "Size              0.031349 -0.074843 -0.000167       NaN      0.103703  ...   \n",
       "AHA              -0.043588 -0.043588 -0.037638       NaN     -0.054079  ...   \n",
       "HA                0.017749 -0.059459  0.059772       NaN      0.129866  ...   \n",
       "AMOREPACIFIC      1.000000 -0.023529 -0.020317       NaN     -0.062832  ...   \n",
       "Clarins          -0.023529  1.000000 -0.020317       NaN     -0.062832  ...   \n",
       "Coty             -0.020317 -0.020317  1.000000       NaN     -0.054255  ...   \n",
       "Edgewell               NaN       NaN       NaN       NaN           NaN  ...   \n",
       "Estee_Lauder     -0.062832 -0.062832 -0.054255       NaN      1.000000  ...   \n",
       "Independent      -0.102899 -0.102899 -0.088852       NaN     -0.274779  ...   \n",
       "Kose             -0.011662 -0.011662 -0.010070       NaN     -0.031143  ...   \n",
       "LG               -0.011662 -0.011662 -0.010070       NaN     -0.031143  ...   \n",
       "LVMH             -0.047114 -0.047114 -0.040683       NaN     -0.125813  ...   \n",
       "Loreal           -0.039848 -0.039848 -0.034408       NaN     -0.106409  ...   \n",
       "Mark_Veder       -0.011662 -0.011662 -0.010070       NaN     -0.031143  ...   \n",
       "PE               -0.045374 -0.045374 -0.039180       NaN     -0.121166  ...   \n",
       "PG               -0.026384 -0.026384 -0.022783       NaN     -0.070456  ...   \n",
       "Puig             -0.016541 -0.016541 -0.014283       NaN     -0.044170  ...   \n",
       "SCJ                    NaN       NaN       NaN       NaN           NaN  ...   \n",
       "Shiseido         -0.039848 -0.039848 -0.034408       NaN     -0.106409  ...   \n",
       "SpaceNK          -0.016541 -0.016541 -0.014283       NaN     -0.044170  ...   \n",
       "Unilever         -0.056829 -0.056829 -0.049071       NaN     -0.151754  ...   \n",
       "\n",
       "                  LVMH    Loreal  Mark_Veder        PE        PG      Puig  \\\n",
       "No_reviews    0.084014 -0.006481    0.045253 -0.096773 -0.002665  0.012368   \n",
       "Hearts        0.095383 -0.012251    0.059314 -0.100908  0.014331 -0.039748   \n",
       "Size         -0.006563 -0.149250   -0.000096  0.156616  0.028079 -0.000136   \n",
       "AHA          -0.087278 -0.073818   -0.021604  0.157026 -0.048877 -0.030641   \n",
       "HA            0.014927  0.101380    0.085333 -0.093392  0.054533  0.012477   \n",
       "AMOREPACIFIC -0.047114 -0.039848   -0.011662 -0.045374 -0.026384 -0.016541   \n",
       "Clarins      -0.047114 -0.039848   -0.011662 -0.045374 -0.026384 -0.016541   \n",
       "Coty         -0.040683 -0.034408   -0.010070 -0.039180 -0.022783 -0.014283   \n",
       "Edgewell           NaN       NaN         NaN       NaN       NaN       NaN   \n",
       "Estee_Lauder -0.125813 -0.106409   -0.031143 -0.121166 -0.070456 -0.044170   \n",
       "Independent  -0.206041 -0.174264   -0.051002 -0.198431 -0.115385 -0.072336   \n",
       "Kose         -0.023352 -0.019751   -0.005780 -0.022490 -0.013077 -0.008198   \n",
       "LG           -0.023352 -0.019751   -0.005780 -0.022490 -0.013077 -0.008198   \n",
       "LVMH          1.000000 -0.079790   -0.023352 -0.090855 -0.052831 -0.033121   \n",
       "Loreal       -0.079790  1.000000   -0.019751 -0.076843 -0.044683 -0.028013   \n",
       "Mark_Veder   -0.023352 -0.019751    1.000000 -0.022490 -0.013077 -0.008198   \n",
       "PE           -0.090855 -0.076843   -0.022490  1.000000 -0.050880 -0.031897   \n",
       "PG           -0.052831 -0.044683   -0.013077 -0.050880  1.000000 -0.018548   \n",
       "Puig         -0.033121 -0.028013   -0.008198 -0.031897 -0.018548  1.000000   \n",
       "SCJ                NaN       NaN         NaN       NaN       NaN       NaN   \n",
       "Shiseido     -0.079790 -0.067485   -0.019751 -0.076843 -0.044683 -0.028013   \n",
       "SpaceNK      -0.033121 -0.028013   -0.008198 -0.031897 -0.018548 -0.011628   \n",
       "Unilever     -0.113792 -0.096242   -0.028167 -0.109589 -0.063724 -0.039950   \n",
       "\n",
       "              SCJ  Shiseido   SpaceNK  Unilever  \n",
       "No_reviews    NaN  0.043883 -0.050953 -0.011391  \n",
       "Hearts        NaN  0.119415 -0.039971  0.078634  \n",
       "Size          NaN -0.002270  0.103341 -0.102526  \n",
       "AHA           NaN -0.073818 -0.030641 -0.038176  \n",
       "HA            NaN  0.101380 -0.096075 -0.045930  \n",
       "AMOREPACIFIC  NaN -0.039848 -0.016541 -0.056829  \n",
       "Clarins       NaN -0.039848 -0.016541 -0.056829  \n",
       "Coty          NaN -0.034408 -0.014283 -0.049071  \n",
       "Edgewell      NaN       NaN       NaN       NaN  \n",
       "Estee_Lauder  NaN -0.106409 -0.044170 -0.151754  \n",
       "Independent   NaN -0.174264 -0.072336 -0.248525  \n",
       "Kose          NaN -0.019751 -0.008198 -0.028167  \n",
       "LG            NaN -0.019751 -0.008198 -0.028167  \n",
       "LVMH          NaN -0.079790 -0.033121 -0.113792  \n",
       "Loreal        NaN -0.067485 -0.028013 -0.096242  \n",
       "Mark_Veder    NaN -0.019751 -0.008198 -0.028167  \n",
       "PE            NaN -0.076843 -0.031897 -0.109589  \n",
       "PG            NaN -0.044683 -0.018548 -0.063724  \n",
       "Puig          NaN -0.028013 -0.011628 -0.039950  \n",
       "SCJ           NaN       NaN       NaN       NaN  \n",
       "Shiseido      NaN  1.000000 -0.028013 -0.096242  \n",
       "SpaceNK       NaN -0.028013  1.000000 -0.039950  \n",
       "Unilever      NaN -0.096242 -0.039950  1.000000  \n",
       "\n",
       "[23 rows x 23 columns]"
      ]
     },
     "execution_count": 52,
     "metadata": {},
     "output_type": "execute_result"
    }
   ],
   "source": [
    "X_train_collinear = X_train.loc[:,selected_columns]\n",
    "X_train_collinear.corr() "
   ]
  },
  {
   "cell_type": "code",
   "execution_count": 20,
   "metadata": {},
   "outputs": [
    {
     "name": "stderr",
     "output_type": "stream",
     "text": [
      "/Users/krystynametcalf/opt/anaconda3/lib/python3.7/site-packages/numpy/core/fromnumeric.py:2495: FutureWarning: Method .ptp is deprecated and will be removed in a future version. Use numpy.ptp instead.\n",
      "  return ptp(axis=axis, out=out, **kwargs)\n"
     ]
    },
    {
     "data": {
      "text/html": [
       "<table class=\"simpletable\">\n",
       "<caption>OLS Regression Results</caption>\n",
       "<tr>\n",
       "  <th>Dep. Variable:</th>      <td>Price_per_OZ</td>   <th>  R-squared:         </th> <td>   0.225</td>\n",
       "</tr>\n",
       "<tr>\n",
       "  <th>Model:</th>                   <td>OLS</td>       <th>  Adj. R-squared:    </th> <td>   0.123</td>\n",
       "</tr>\n",
       "<tr>\n",
       "  <th>Method:</th>             <td>Least Squares</td>  <th>  F-statistic:       </th> <td>   2.216</td>\n",
       "</tr>\n",
       "<tr>\n",
       "  <th>Date:</th>             <td>Fri, 17 Jul 2020</td> <th>  Prob (F-statistic):</th>  <td>0.00358</td>\n",
       "</tr>\n",
       "<tr>\n",
       "  <th>Time:</th>                 <td>05:19:51</td>     <th>  Log-Likelihood:    </th> <td> -811.60</td>\n",
       "</tr>\n",
       "<tr>\n",
       "  <th>No. Observations:</th>      <td>   174</td>      <th>  AIC:               </th> <td>   1665.</td>\n",
       "</tr>\n",
       "<tr>\n",
       "  <th>Df Residuals:</th>          <td>   153</td>      <th>  BIC:               </th> <td>   1732.</td>\n",
       "</tr>\n",
       "<tr>\n",
       "  <th>Df Model:</th>              <td>    20</td>      <th>                     </th>     <td> </td>   \n",
       "</tr>\n",
       "<tr>\n",
       "  <th>Covariance Type:</th>      <td>nonrobust</td>    <th>                     </th>     <td> </td>   \n",
       "</tr>\n",
       "</table>\n",
       "<table class=\"simpletable\">\n",
       "<tr>\n",
       "        <td></td>          <th>coef</th>     <th>std err</th>      <th>t</th>      <th>P>|t|</th>  <th>[0.025</th>    <th>0.975]</th>  \n",
       "</tr>\n",
       "<tr>\n",
       "  <th>const</th>        <td>   73.1911</td> <td>   10.527</td> <td>    6.952</td> <td> 0.000</td> <td>   52.393</td> <td>   93.989</td>\n",
       "</tr>\n",
       "<tr>\n",
       "  <th>No_reviews</th>   <td>   -0.0071</td> <td>    0.005</td> <td>   -1.560</td> <td> 0.121</td> <td>   -0.016</td> <td>    0.002</td>\n",
       "</tr>\n",
       "<tr>\n",
       "  <th>Hearts</th>       <td> 1.847e-06</td> <td> 9.01e-05</td> <td>    0.020</td> <td> 0.984</td> <td>   -0.000</td> <td>    0.000</td>\n",
       "</tr>\n",
       "<tr>\n",
       "  <th>Size</th>         <td>  -13.2685</td> <td>    5.956</td> <td>   -2.228</td> <td> 0.027</td> <td>  -25.035</td> <td>   -1.502</td>\n",
       "</tr>\n",
       "<tr>\n",
       "  <th>AHA</th>          <td>   -8.1057</td> <td>    8.803</td> <td>   -0.921</td> <td> 0.359</td> <td>  -25.497</td> <td>    9.286</td>\n",
       "</tr>\n",
       "<tr>\n",
       "  <th>HA</th>           <td>  -12.1399</td> <td>    4.519</td> <td>   -2.687</td> <td> 0.008</td> <td>  -21.067</td> <td>   -3.213</td>\n",
       "</tr>\n",
       "<tr>\n",
       "  <th>AMOREPACIFIC</th> <td>    1.6237</td> <td>   13.467</td> <td>    0.121</td> <td> 0.904</td> <td>  -24.982</td> <td>   28.229</td>\n",
       "</tr>\n",
       "<tr>\n",
       "  <th>Clarins</th>      <td>   37.6583</td> <td>   13.477</td> <td>    2.794</td> <td> 0.006</td> <td>   11.034</td> <td>   64.283</td>\n",
       "</tr>\n",
       "<tr>\n",
       "  <th>Coty</th>         <td>   45.1250</td> <td>   15.388</td> <td>    2.932</td> <td> 0.004</td> <td>   14.725</td> <td>   75.526</td>\n",
       "</tr>\n",
       "<tr>\n",
       "  <th>Edgewell</th>     <td> 1.073e-14</td> <td> 8.43e-15</td> <td>    1.272</td> <td> 0.205</td> <td>-5.93e-15</td> <td> 2.74e-14</td>\n",
       "</tr>\n",
       "<tr>\n",
       "  <th>Estee_Lauder</th> <td>   13.5873</td> <td>    6.553</td> <td>    2.074</td> <td> 0.040</td> <td>    0.642</td> <td>   26.533</td>\n",
       "</tr>\n",
       "<tr>\n",
       "  <th>Independent</th>  <td>   -2.2102</td> <td>    5.285</td> <td>   -0.418</td> <td> 0.676</td> <td>  -12.652</td> <td>    8.231</td>\n",
       "</tr>\n",
       "<tr>\n",
       "  <th>Kose</th>         <td>  -14.1658</td> <td>   26.853</td> <td>   -0.528</td> <td> 0.599</td> <td>  -67.217</td> <td>   38.885</td>\n",
       "</tr>\n",
       "<tr>\n",
       "  <th>LG</th>           <td>    0.9308</td> <td>   26.114</td> <td>    0.036</td> <td> 0.972</td> <td>  -50.660</td> <td>   52.522</td>\n",
       "</tr>\n",
       "<tr>\n",
       "  <th>LVMH</th>         <td>    0.5781</td> <td>    7.692</td> <td>    0.075</td> <td> 0.940</td> <td>  -14.618</td> <td>   15.774</td>\n",
       "</tr>\n",
       "<tr>\n",
       "  <th>Loreal</th>       <td>   -4.8206</td> <td>    8.691</td> <td>   -0.555</td> <td> 0.580</td> <td>  -21.990</td> <td>   12.349</td>\n",
       "</tr>\n",
       "<tr>\n",
       "  <th>Mark_Veder</th>   <td>   -6.4205</td> <td>   26.166</td> <td>   -0.245</td> <td> 0.806</td> <td>  -58.114</td> <td>   45.273</td>\n",
       "</tr>\n",
       "<tr>\n",
       "  <th>PE</th>           <td>   16.8985</td> <td>    8.294</td> <td>    2.037</td> <td> 0.043</td> <td>    0.513</td> <td>   33.284</td>\n",
       "</tr>\n",
       "<tr>\n",
       "  <th>PG</th>           <td>    6.4685</td> <td>   12.160</td> <td>    0.532</td> <td> 0.596</td> <td>  -17.554</td> <td>   30.491</td>\n",
       "</tr>\n",
       "<tr>\n",
       "  <th>Puig</th>         <td>   -7.4321</td> <td>   18.613</td> <td>   -0.399</td> <td> 0.690</td> <td>  -44.203</td> <td>   29.339</td>\n",
       "</tr>\n",
       "<tr>\n",
       "  <th>SCJ</th>          <td> 4.065e-16</td> <td> 1.56e-15</td> <td>    0.260</td> <td> 0.795</td> <td>-2.68e-15</td> <td>  3.5e-15</td>\n",
       "</tr>\n",
       "<tr>\n",
       "  <th>Shiseido</th>     <td>    2.5230</td> <td>    8.768</td> <td>    0.288</td> <td> 0.774</td> <td>  -14.799</td> <td>   19.844</td>\n",
       "</tr>\n",
       "<tr>\n",
       "  <th>SpaceNK</th>      <td>  -20.7866</td> <td>   18.932</td> <td>   -1.098</td> <td> 0.274</td> <td>  -58.188</td> <td>   16.615</td>\n",
       "</tr>\n",
       "<tr>\n",
       "  <th>Unilever</th>     <td>    3.6339</td> <td>    6.860</td> <td>    0.530</td> <td> 0.597</td> <td>   -9.918</td> <td>   17.186</td>\n",
       "</tr>\n",
       "</table>\n",
       "<table class=\"simpletable\">\n",
       "<tr>\n",
       "  <th>Omnibus:</th>       <td>69.368</td> <th>  Durbin-Watson:     </th> <td>   2.296</td>\n",
       "</tr>\n",
       "<tr>\n",
       "  <th>Prob(Omnibus):</th> <td> 0.000</td> <th>  Jarque-Bera (JB):  </th> <td> 203.536</td>\n",
       "</tr>\n",
       "<tr>\n",
       "  <th>Skew:</th>          <td> 1.651</td> <th>  Prob(JB):          </th> <td>6.35e-45</td>\n",
       "</tr>\n",
       "<tr>\n",
       "  <th>Kurtosis:</th>      <td> 7.144</td> <th>  Cond. No.          </th> <td>1.10e+23</td>\n",
       "</tr>\n",
       "</table><br/><br/>Warnings:<br/>[1] Standard Errors assume that the covariance matrix of the errors is correctly specified.<br/>[2] The smallest eigenvalue is 2.15e-35. This might indicate that there are<br/>strong multicollinearity problems or that the design matrix is singular."
      ],
      "text/plain": [
       "<class 'statsmodels.iolib.summary.Summary'>\n",
       "\"\"\"\n",
       "                            OLS Regression Results                            \n",
       "==============================================================================\n",
       "Dep. Variable:           Price_per_OZ   R-squared:                       0.225\n",
       "Model:                            OLS   Adj. R-squared:                  0.123\n",
       "Method:                 Least Squares   F-statistic:                     2.216\n",
       "Date:                Fri, 17 Jul 2020   Prob (F-statistic):            0.00358\n",
       "Time:                        05:19:51   Log-Likelihood:                -811.60\n",
       "No. Observations:                 174   AIC:                             1665.\n",
       "Df Residuals:                     153   BIC:                             1732.\n",
       "Df Model:                          20                                         \n",
       "Covariance Type:            nonrobust                                         \n",
       "================================================================================\n",
       "                   coef    std err          t      P>|t|      [0.025      0.975]\n",
       "--------------------------------------------------------------------------------\n",
       "const           73.1911     10.527      6.952      0.000      52.393      93.989\n",
       "No_reviews      -0.0071      0.005     -1.560      0.121      -0.016       0.002\n",
       "Hearts        1.847e-06   9.01e-05      0.020      0.984      -0.000       0.000\n",
       "Size           -13.2685      5.956     -2.228      0.027     -25.035      -1.502\n",
       "AHA             -8.1057      8.803     -0.921      0.359     -25.497       9.286\n",
       "HA             -12.1399      4.519     -2.687      0.008     -21.067      -3.213\n",
       "AMOREPACIFIC     1.6237     13.467      0.121      0.904     -24.982      28.229\n",
       "Clarins         37.6583     13.477      2.794      0.006      11.034      64.283\n",
       "Coty            45.1250     15.388      2.932      0.004      14.725      75.526\n",
       "Edgewell      1.073e-14   8.43e-15      1.272      0.205   -5.93e-15    2.74e-14\n",
       "Estee_Lauder    13.5873      6.553      2.074      0.040       0.642      26.533\n",
       "Independent     -2.2102      5.285     -0.418      0.676     -12.652       8.231\n",
       "Kose           -14.1658     26.853     -0.528      0.599     -67.217      38.885\n",
       "LG               0.9308     26.114      0.036      0.972     -50.660      52.522\n",
       "LVMH             0.5781      7.692      0.075      0.940     -14.618      15.774\n",
       "Loreal          -4.8206      8.691     -0.555      0.580     -21.990      12.349\n",
       "Mark_Veder      -6.4205     26.166     -0.245      0.806     -58.114      45.273\n",
       "PE              16.8985      8.294      2.037      0.043       0.513      33.284\n",
       "PG               6.4685     12.160      0.532      0.596     -17.554      30.491\n",
       "Puig            -7.4321     18.613     -0.399      0.690     -44.203      29.339\n",
       "SCJ           4.065e-16   1.56e-15      0.260      0.795   -2.68e-15     3.5e-15\n",
       "Shiseido         2.5230      8.768      0.288      0.774     -14.799      19.844\n",
       "SpaceNK        -20.7866     18.932     -1.098      0.274     -58.188      16.615\n",
       "Unilever         3.6339      6.860      0.530      0.597      -9.918      17.186\n",
       "==============================================================================\n",
       "Omnibus:                       69.368   Durbin-Watson:                   2.296\n",
       "Prob(Omnibus):                  0.000   Jarque-Bera (JB):              203.536\n",
       "Skew:                           1.651   Prob(JB):                     6.35e-45\n",
       "Kurtosis:                       7.144   Cond. No.                     1.10e+23\n",
       "==============================================================================\n",
       "\n",
       "Warnings:\n",
       "[1] Standard Errors assume that the covariance matrix of the errors is correctly specified.\n",
       "[2] The smallest eigenvalue is 2.15e-35. This might indicate that there are\n",
       "strong multicollinearity problems or that the design matrix is singular.\n",
       "\"\"\""
      ]
     },
     "execution_count": 20,
     "metadata": {},
     "output_type": "execute_result"
    }
   ],
   "source": [
    "import statsmodels.api as sm\n",
    "import statsmodels.formula.api as smf \n",
    "\n",
    "model = sm.OLS(y_train, sm.add_constant(X_train_collinear))\n",
    "results = model.fit()\n",
    "\n",
    "results.summary()"
   ]
  },
  {
   "cell_type": "code",
   "execution_count": 53,
   "metadata": {},
   "outputs": [
    {
     "data": {
      "text/plain": [
       "[('No_reviews', -0.008372109199912459),\n",
       " ('Hearts', 8.092504768082956e-06),\n",
       " ('Size', -9.291123297452758),\n",
       " ('AHA', -2.955250426131766),\n",
       " ('HA', -9.28064359166971),\n",
       " ('AMOREPACIFIC', -1.3261050605337377),\n",
       " ('Clarins', 9.522831211031749),\n",
       " ('Coty', 8.909177781672803),\n",
       " ('Edgewell', 0.0),\n",
       " ('Estee_Lauder', 4.977091542475729),\n",
       " ('Independent', -6.83101102032228),\n",
       " ('Kose', -1.4568991790942474),\n",
       " ('LG', -0.5400247568541008),\n",
       " ('LVMH', -2.894918588505499),\n",
       " ('Loreal', -5.292825449168354),\n",
       " ('Mark_Veder', -1.1983511162182823),\n",
       " ('PE', 5.656499092103876),\n",
       " ('PG', 0.06641836081810461),\n",
       " ('Puig', -2.160127748311131),\n",
       " ('SCJ', 0.0),\n",
       " ('Shiseido', -1.8393333012540463),\n",
       " ('SpaceNK', -4.469536405566926),\n",
       " ('Unilever', -1.122885362273575)]"
      ]
     },
     "execution_count": 53,
     "metadata": {},
     "output_type": "execute_result"
    }
   ],
   "source": [
    "lr_model_ridge = Ridge(alpha = 10)\n",
    "lr_model_ridge.fit(X_train_collinear, y_train)\n",
    "\n",
    "list(zip(X_train_collinear.columns, lr_model_ridge.coef_))"
   ]
  },
  {
   "cell_type": "code",
   "execution_count": 55,
   "metadata": {},
   "outputs": [
    {
     "data": {
      "text/plain": [
       "[('No_reviews', -0.008959387350609051),\n",
       " ('Hearts', 1.2035777898630225e-05),\n",
       " ('Size', -4.545750954832162),\n",
       " ('AHA', -0.0),\n",
       " ('HA', -7.090686658887938),\n",
       " ('AMOREPACIFIC', -0.0),\n",
       " ('Clarins', 0.0),\n",
       " ('Coty', 0.0),\n",
       " ('Edgewell', 0.0),\n",
       " ('Estee_Lauder', 0.0),\n",
       " ('Independent', -4.649969141950212),\n",
       " ('Kose', -0.0),\n",
       " ('LG', -0.0),\n",
       " ('LVMH', -0.0),\n",
       " ('Loreal', -0.0),\n",
       " ('Mark_Veder', -0.0),\n",
       " ('PE', 0.0),\n",
       " ('PG', -0.0),\n",
       " ('Puig', -0.0),\n",
       " ('SCJ', 0.0),\n",
       " ('Shiseido', -0.0),\n",
       " ('SpaceNK', -0.0),\n",
       " ('Unilever', -0.0)]"
      ]
     },
     "execution_count": 55,
     "metadata": {},
     "output_type": "execute_result"
    }
   ],
   "source": [
    "lr_model_lasso = Lasso(alpha = 1)\n",
    "lr_model_lasso.fit(X_train_collinear, y_train)\n",
    "\n",
    "list(zip(X_train_collinear.columns, lr_model_lasso.coef_))"
   ]
  },
  {
   "cell_type": "code",
   "execution_count": 56,
   "metadata": {},
   "outputs": [],
   "source": [
    "test_set_pred = lasso_model.predict(X_test.loc[:,selected_columns])"
   ]
  },
  {
   "cell_type": "code",
   "execution_count": 57,
   "metadata": {},
   "outputs": [
    {
     "data": {
      "image/png": "[encoded data removed]",
      "text/plain": [
       "<Figure size 432x288 with 1 Axes>"
      ]
     },
     "metadata": {
      "needs_background": "light"
     },
     "output_type": "display_data"
    }
   ],
   "source": [
    "plt.scatter(test_set_pred, y_test, alpha=.1)\n",
    "plt.plot(np.linspace(0,60,10), np.linspace(0,60,10));"
   ]
  },
  {
   "cell_type": "code",
   "execution_count": 25,
   "metadata": {},
   "outputs": [
    {
     "data": {
      "text/plain": [
       "0.08911042362111987"
      ]
     },
     "execution_count": 25,
     "metadata": {},
     "output_type": "execute_result"
    }
   ],
   "source": [
    "#r-squared\n",
    "r2_score(y_test, test_set_pred)"
   ]
  },
  {
   "cell_type": "code",
   "execution_count": 26,
   "metadata": {},
   "outputs": [
    {
     "data": {
      "text/plain": [
       "21.25568138508687"
      ]
     },
     "execution_count": 26,
     "metadata": {},
     "output_type": "execute_result"
    }
   ],
   "source": [
    "#Mean Absolute Error (MAE)\n",
    "def mae(y_true, y_pred):\n",
    "    return np.mean(np.abs(y_pred - y_true)) \n",
    "\n",
    "mae(y_test, test_set_pred)"
   ]
  },
  {
   "cell_type": "markdown",
   "metadata": {},
   "source": [
    "### Standard-Scaling Features"
   ]
  },
  {
   "cell_type": "code",
   "execution_count": 27,
   "metadata": {},
   "outputs": [],
   "source": [
    "from sklearn.pipeline import Pipeline\n",
    "from sklearn.preprocessing import StandardScaler"
   ]
  },
  {
   "cell_type": "code",
   "execution_count": 28,
   "metadata": {},
   "outputs": [
    {
     "data": {
      "text/plain": [
       "StandardScaler(copy=True, with_mean=True, with_std=True)"
      ]
     },
     "execution_count": 28,
     "metadata": {},
     "output_type": "execute_result"
    }
   ],
   "source": [
    "## This step fits the Standard Scaler to the training data\n",
    "## Essentially it finds the mean and standard deviation of each variable in the training set\n",
    "\n",
    "std = StandardScaler()\n",
    "std.fit(X_train.values)"
   ]
  },
  {
   "cell_type": "code",
   "execution_count": 29,
   "metadata": {},
   "outputs": [],
   "source": [
    "## This step applies the scaler to the train set.\n",
    "## It subtracts the mean it learned in the previous step and then divides by the standard deviation\n",
    "\n",
    "X_tr = std.transform(X_train.values)"
   ]
  },
  {
   "cell_type": "code",
   "execution_count": 30,
   "metadata": {},
   "outputs": [],
   "source": [
    "## Apply the scaler to the test set\n",
    "\n",
    "X_te = std.transform(X_test.values)"
   ]
  },
  {
   "cell_type": "code",
   "execution_count": 31,
   "metadata": {},
   "outputs": [
    {
     "data": {
      "text/plain": [
       "(pandas.core.frame.DataFrame, numpy.ndarray)"
      ]
     },
     "execution_count": 31,
     "metadata": {},
     "output_type": "execute_result"
    }
   ],
   "source": [
    "## Note that even though we put a Pandas Dataframe into the scalar, what comes out is a numpy array\n",
    "## In general, sklearn works on numpy.  It will accept pandas objects by trying to coerce them to numpy arrays\n",
    "## But it will not usually output pandas objects\n",
    "\n",
    "type(X_train), type(X_tr)"
   ]
  },
  {
   "cell_type": "code",
   "execution_count": 32,
   "metadata": {},
   "outputs": [
    {
     "data": {
      "text/plain": [
       "(array([161.,   0.,   0.,   0.,   0.,   0.,   0.,   0.,   0.,  13.]),\n",
       " array([-0.28415725,  0.0961763 ,  0.47650985,  0.85684339,  1.23717694,\n",
       "         1.61751049,  1.99784404,  2.37817758,  2.75851113,  3.13884468,\n",
       "         3.51917823]),\n",
       " <a list of 10 Patch objects>)"
      ]
     },
     "execution_count": 32,
     "metadata": {},
     "output_type": "execute_result"
    },
    {
     "data": {
      "image/png": "[encoded data removed]",
      "text/plain": [
       "<Figure size 432x288 with 1 Axes>"
      ]
     },
     "metadata": {
      "needs_background": "light"
     },
     "output_type": "display_data"
    }
   ],
   "source": [
    "## Here we can plot histograms of the transformed variables\n",
    "## Note that they seem to have means of 0 and stddevs of 1\n",
    "## (though they are not necessarily normally distributed)\n",
    "\n",
    "plt.hist(X_tr[:,3])"
   ]
  },
  {
   "cell_type": "code",
   "execution_count": 33,
   "metadata": {},
   "outputs": [
    {
     "data": {
      "text/plain": [
       "Lasso(alpha=10000, copy_X=True, fit_intercept=True, max_iter=1000,\n",
       "      normalize=False, positive=False, precompute=False, random_state=None,\n",
       "      selection='cyclic', tol=0.0001, warm_start=False)"
      ]
     },
     "execution_count": 33,
     "metadata": {},
     "output_type": "execute_result"
    }
   ],
   "source": [
    "## Fit a LASSO model on the standardized data\n",
    "\n",
    "lasso_model = Lasso(alpha = 10000)\n",
    "lasso_model.fit(X_tr,y_train)"
   ]
  },
  {
   "cell_type": "code",
   "execution_count": 34,
   "metadata": {},
   "outputs": [
    {
     "data": {
      "text/plain": [
       "[('No_reviews', -0.0),\n",
       " ('Hearts', -0.0),\n",
       " ('Size', -0.0),\n",
       " ('AHA', -0.0),\n",
       " ('HA', -0.0),\n",
       " ('AMOREPACIFIC', -0.0),\n",
       " ('Clarins', 0.0),\n",
       " ('Coty', 0.0),\n",
       " ('Edgewell', 0.0),\n",
       " ('Estee_Lauder', 0.0),\n",
       " ('Independent', -0.0),\n",
       " ('Kose', -0.0),\n",
       " ('LG', -0.0),\n",
       " ('LVMH', -0.0),\n",
       " ('Loreal', -0.0),\n",
       " ('Mark_Veder', -0.0),\n",
       " ('PE', 0.0),\n",
       " ('PG', 0.0),\n",
       " ('Puig', -0.0),\n",
       " ('SCJ', 0.0),\n",
       " ('Shiseido', -0.0),\n",
       " ('SpaceNK', -0.0),\n",
       " ('Unilever', 0.0)]"
      ]
     },
     "execution_count": 34,
     "metadata": {},
     "output_type": "execute_result"
    }
   ],
   "source": [
    "## Note that now we can meaningful compare the importance of\n",
    "## different features, since they're on the same scale\n",
    "\n",
    "## But it's now difficult to interpret the coefficients\n",
    "## We would need to translate back to the original feature scales by dividing\n",
    "## each coefficient by the original column's standard deviation\n",
    "\n",
    "list(zip(X_train.columns, lasso_model.coef_))"
   ]
  },
  {
   "cell_type": "markdown",
   "metadata": {},
   "source": [
    "### Tuning Regularization Strength via Validation"
   ]
  },
  {
   "cell_type": "code",
   "execution_count": 35,
   "metadata": {},
   "outputs": [],
   "source": [
    "alphalist = 10**(np.linspace(-2,2,200))\n",
    "err_vec_val = np.zeros(len(alphalist))\n",
    "err_vec_train = np.zeros(len(alphalist))\n",
    "\n",
    "for i,curr_alpha in enumerate(alphalist):\n",
    "\n",
    "    # note the use of a new sklearn utility: Pipeline to pack\n",
    "    # multiple modeling steps into one fitting process \n",
    "    steps = [('standardize', StandardScaler()), \n",
    "             ('lasso', Lasso(alpha = curr_alpha))]\n",
    "\n",
    "    pipe = Pipeline(steps)\n",
    "    pipe.fit(X_train.loc[:,selected_columns].values, y_train)\n",
    "    \n",
    "    val_set_pred = pipe.predict(X_val.loc[:,selected_columns].values)\n",
    "    err_vec_val[i] = mae(y_val, val_set_pred)"
   ]
  },
  {
   "cell_type": "code",
   "execution_count": 36,
   "metadata": {},
   "outputs": [
    {
     "data": {
      "text/plain": [
       "[<matplotlib.lines.Line2D at 0x7fa2fffcdb50>]"
      ]
     },
     "execution_count": 36,
     "metadata": {},
     "output_type": "execute_result"
    },
    {
     "data": {
      "image/png": "[encoded data removed]",
      "text/plain": [
       "<Figure size 432x288 with 1 Axes>"
      ]
     },
     "metadata": {
      "needs_background": "light"
     },
     "output_type": "display_data"
    }
   ],
   "source": [
    "#plot the curve of validation error as alpha changes\n",
    "\n",
    "plt.plot(np.log10(alphalist), err_vec_val)"
   ]
  },
  {
   "cell_type": "code",
   "execution_count": 37,
   "metadata": {},
   "outputs": [
    {
     "data": {
      "text/plain": [
       "28.24270487119224"
      ]
     },
     "execution_count": 37,
     "metadata": {},
     "output_type": "execute_result"
    }
   ],
   "source": [
    "np.min(err_vec_val)"
   ]
  },
  {
   "cell_type": "code",
   "execution_count": 38,
   "metadata": {},
   "outputs": [
    {
     "data": {
      "text/plain": [
       "3.739937302478798"
      ]
     },
     "execution_count": 38,
     "metadata": {},
     "output_type": "execute_result"
    }
   ],
   "source": [
    "## This is the value of alpha that gave us the lowest error\n",
    "alphalist[np.argmin(err_vec_val)]"
   ]
  },
  {
   "cell_type": "markdown",
   "metadata": {},
   "source": [
    "### Automated Regularization Strength Tuning via Cross-Validation"
   ]
  },
  {
   "cell_type": "code",
   "execution_count": 39,
   "metadata": {},
   "outputs": [
    {
     "data": {
      "text/plain": [
       "StandardScaler(copy=True, with_mean=True, with_std=True)"
      ]
     },
     "execution_count": 39,
     "metadata": {},
     "output_type": "execute_result"
    }
   ],
   "source": [
    "## Scale the data as before\n",
    "std = StandardScaler()\n",
    "std.fit(X_train.values)"
   ]
  },
  {
   "cell_type": "code",
   "execution_count": 40,
   "metadata": {},
   "outputs": [],
   "source": [
    "## Scale the Predictors on both the train and test set\n",
    "X_tr = std.transform(X_train.values)\n",
    "X_te = std.transform(X_test.values)"
   ]
  },
  {
   "cell_type": "code",
   "execution_count": 41,
   "metadata": {},
   "outputs": [
    {
     "data": {
      "text/plain": [
       "LassoCV(alphas=array([1.00000000e-02, 1.04737090e-02, 1.09698580e-02, 1.14895100e-02,\n",
       "       1.20337784e-02, 1.26038293e-02, 1.32008840e-02, 1.38262217e-02,\n",
       "       1.44811823e-02, 1.51671689e-02, 1.58856513e-02, 1.66381689e-02,\n",
       "       1.74263339e-02, 1.82518349e-02, 1.91164408e-02, 2.00220037e-02,\n",
       "       2.09704640e-02, 2.19638537e-02, 2.30043012e-02, 2.40940356e-02,\n",
       "       2.52353917e-02, 2.64308149e-0...\n",
       "       6.01027678e+01, 6.29498899e+01, 6.59318827e+01, 6.90551352e+01,\n",
       "       7.23263390e+01, 7.57525026e+01, 7.93409667e+01, 8.30994195e+01,\n",
       "       8.70359136e+01, 9.11588830e+01, 9.54771611e+01, 1.00000000e+02]),\n",
       "        copy_X=True, cv=5, eps=0.001, fit_intercept=True, max_iter=1000,\n",
       "        n_alphas=100, n_jobs=None, normalize=False, positive=False,\n",
       "        precompute='auto', random_state=None, selection='cyclic', tol=0.0001,\n",
       "        verbose=False)"
      ]
     },
     "execution_count": 41,
     "metadata": {},
     "output_type": "execute_result"
    }
   ],
   "source": [
    "# Run the cross validation, find the best alpha, refit the model on all the data with that alpha\n",
    "\n",
    "alphavec = 10**np.linspace(-2,2,200)\n",
    "\n",
    "lasso_model = LassoCV(alphas = alphavec, cv=5)\n",
    "lasso_model.fit(X_tr, y_train)"
   ]
  },
  {
   "cell_type": "code",
   "execution_count": 42,
   "metadata": {},
   "outputs": [
    {
     "data": {
      "text/plain": [
       "0.7401959996915645"
      ]
     },
     "execution_count": 42,
     "metadata": {},
     "output_type": "execute_result"
    }
   ],
   "source": [
    "# This is the best alpha value it found - not far from the value\n",
    "# selected using simple validation\n",
    "lasso_model.alpha_"
   ]
  },
  {
   "cell_type": "code",
   "execution_count": 43,
   "metadata": {},
   "outputs": [
    {
     "data": {
      "text/plain": [
       "[('No_reviews', -4.548488342689954),\n",
       " ('Hearts', -0.0),\n",
       " ('Size', -3.914406048208199),\n",
       " ('AHA', -1.1044580689446752),\n",
       " ('HA', -4.966155539980611),\n",
       " ('AMOREPACIFIC', -0.0),\n",
       " ('Clarins', 4.7261142520988395),\n",
       " ('Coty', 4.818072647343583),\n",
       " ('Edgewell', 0.0),\n",
       " ('Estee_Lauder', 3.114884699557426),\n",
       " ('Independent', -1.6702855928935698),\n",
       " ('Kose', -0.47576043793647027),\n",
       " ('LG', -0.0),\n",
       " ('LVMH', -0.0),\n",
       " ('Loreal', -0.9819740139012274),\n",
       " ('Mark_Veder', -0.01810595501065049),\n",
       " ('PE', 3.0792871776690425),\n",
       " ('PG', 0.0),\n",
       " ('Puig', -0.3136914698697892),\n",
       " ('SCJ', 0.0),\n",
       " ('Shiseido', -0.0),\n",
       " ('SpaceNK', -1.6940730927698726),\n",
       " ('Unilever', 0.0)]"
      ]
     },
     "execution_count": 43,
     "metadata": {},
     "output_type": "execute_result"
    }
   ],
   "source": [
    "# These are the (standardized) coefficients found\n",
    "# when it refit using that best alpha\n",
    "list(zip(X_train.columns, lasso_model.coef_))"
   ]
  },
  {
   "cell_type": "code",
   "execution_count": 70,
   "metadata": {},
   "outputs": [],
   "source": [
    "def add_square_terms(df):    \n",
    "\n",
    "    df_poly = df.copy()\n",
    "    \n",
    "    for c in df.columns:\n",
    "        df_poly[c + '**2'] = df[c]**2\n",
    "        \n",
    "    return df_poly"
   ]
  },
  {
   "cell_type": "code",
   "execution_count": 73,
   "metadata": {},
   "outputs": [],
   "source": [
    "from sklearn.metrics import mean_squared_error\n",
    "\n",
    "def RMSE(actual, predicted):\n",
    "    return np.sqrt(mean_squared_error(actual,predicted))   "
   ]
  },
  {
   "cell_type": "code",
   "execution_count": 74,
   "metadata": {},
   "outputs": [
    {
     "name": "stdout",
     "output_type": "stream",
     "text": [
      "OLS regression score val R^2: -0.633\n",
      "OLS regression score val RMSE: 24.659 \n",
      "\n",
      "Degree 2 polynomial regression val R^2: -0.340\n",
      "Degree 2 polynomial regression score val RMSE: 22.332\n"
     ]
    }
   ],
   "source": [
    "from sklearn.model_selection import train_test_split\n",
    "\n",
    "X_train, X_val, y_train, y_val = train_test_split(X, y, test_size=.2, random_state=3)\n",
    "\n",
    "lm = LinearRegression()\n",
    "lm.fit(X_train, y_train)\n",
    "print('OLS regression score val R^2: %.3f' % lm.score(X_val, y_val))\n",
    "print('OLS regression score val RMSE: %.3f \\n' % RMSE(lm.predict(X_val), y_val))\n",
    "\n",
    "lm.fit(add_square_terms(X_train), y_train)\n",
    "print('Degree 2 polynomial regression val R^2: %.3f' \n",
    "      % lm.score(add_square_terms(X_val), y_val))\n",
    "print('Degree 2 polynomial regression score val RMSE: %.3f' \n",
    "      % RMSE(lm.predict(add_square_terms(X_val)), y_val))"
   ]
  },
  {
   "cell_type": "code",
   "execution_count": 76,
   "metadata": {},
   "outputs": [
    {
     "data": {
      "image/png": "[encoded data removed]",
      "text/plain": [
       "<Figure size 432x288 with 1 Axes>"
      ]
     },
     "metadata": {
      "needs_background": "light"
     },
     "output_type": "display_data"
    }
   ],
   "source": [
    "y_pred = lm.predict(add_square_terms(X_val))\n",
    "\n",
    "plt.scatter(y_pred,y_val-y_pred,alpha=.1)\n",
    "plt.plot(np.linspace(0,600000,1000),np.linspace(0,0,1000))\n",
    "plt.xlabel('Predicted Value')\n",
    "plt.ylabel('Residual');"
   ]
  },
  {
   "cell_type": "code",
   "execution_count": 72,
   "metadata": {},
   "outputs": [
    {
     "ename": "AttributeError",
     "evalue": "'DataFrame' object has no attribute 'predict'",
     "output_type": "error",
     "traceback": [
      "\u001b[0;31m---------------------------------------------------------------------------\u001b[0m",
      "\u001b[0;31mAttributeError\u001b[0m                            Traceback (most recent call last)",
      "\u001b[0;32m<ipython-input-72-bd4d456ea390>\u001b[0m in \u001b[0;36m<module>\u001b[0;34m\u001b[0m\n\u001b[1;32m      1\u001b[0m \u001b[0mplt\u001b[0m\u001b[0;34m.\u001b[0m\u001b[0mscatter\u001b[0m\u001b[0;34m(\u001b[0m\u001b[0mPCIG\u001b[0m\u001b[0;34m.\u001b[0m\u001b[0mPrice_per_OZ\u001b[0m\u001b[0;34m,\u001b[0m\u001b[0my\u001b[0m\u001b[0;34m)\u001b[0m\u001b[0;34m\u001b[0m\u001b[0;34m\u001b[0m\u001b[0m\n\u001b[0;32m----> 2\u001b[0;31m \u001b[0mplt\u001b[0m\u001b[0;34m.\u001b[0m\u001b[0mscatter\u001b[0m\u001b[0;34m(\u001b[0m\u001b[0mPCIG\u001b[0m\u001b[0;34m.\u001b[0m\u001b[0mPrice_per_OZ\u001b[0m\u001b[0;34m,\u001b[0m\u001b[0mPCIG\u001b[0m\u001b[0;34m.\u001b[0m\u001b[0mpredict\u001b[0m\u001b[0;34m)\u001b[0m\u001b[0;34m;\u001b[0m\u001b[0;34m\u001b[0m\u001b[0;34m\u001b[0m\u001b[0m\n\u001b[0m",
      "\u001b[0;32m~/opt/anaconda3/lib/python3.7/site-packages/pandas/core/generic.py\u001b[0m in \u001b[0;36m__getattr__\u001b[0;34m(self, name)\u001b[0m\n\u001b[1;32m   5177\u001b[0m             \u001b[0;32mif\u001b[0m \u001b[0mself\u001b[0m\u001b[0;34m.\u001b[0m\u001b[0m_info_axis\u001b[0m\u001b[0;34m.\u001b[0m\u001b[0m_can_hold_identifiers_and_holds_name\u001b[0m\u001b[0;34m(\u001b[0m\u001b[0mname\u001b[0m\u001b[0;34m)\u001b[0m\u001b[0;34m:\u001b[0m\u001b[0;34m\u001b[0m\u001b[0;34m\u001b[0m\u001b[0m\n\u001b[1;32m   5178\u001b[0m                 \u001b[0;32mreturn\u001b[0m \u001b[0mself\u001b[0m\u001b[0;34m[\u001b[0m\u001b[0mname\u001b[0m\u001b[0;34m]\u001b[0m\u001b[0;34m\u001b[0m\u001b[0;34m\u001b[0m\u001b[0m\n\u001b[0;32m-> 5179\u001b[0;31m             \u001b[0;32mreturn\u001b[0m \u001b[0mobject\u001b[0m\u001b[0;34m.\u001b[0m\u001b[0m__getattribute__\u001b[0m\u001b[0;34m(\u001b[0m\u001b[0mself\u001b[0m\u001b[0;34m,\u001b[0m \u001b[0mname\u001b[0m\u001b[0;34m)\u001b[0m\u001b[0;34m\u001b[0m\u001b[0;34m\u001b[0m\u001b[0m\n\u001b[0m\u001b[1;32m   5180\u001b[0m \u001b[0;34m\u001b[0m\u001b[0m\n\u001b[1;32m   5181\u001b[0m     \u001b[0;32mdef\u001b[0m \u001b[0m__setattr__\u001b[0m\u001b[0;34m(\u001b[0m\u001b[0mself\u001b[0m\u001b[0;34m,\u001b[0m \u001b[0mname\u001b[0m\u001b[0;34m,\u001b[0m \u001b[0mvalue\u001b[0m\u001b[0;34m)\u001b[0m\u001b[0;34m:\u001b[0m\u001b[0;34m\u001b[0m\u001b[0;34m\u001b[0m\u001b[0m\n",
      "\u001b[0;31mAttributeError\u001b[0m: 'DataFrame' object has no attribute 'predict'"
     ]
    },
    {
     "data": {
      "image/png": "[encoded data removed]",
      "text/plain": [
       "<Figure size 432x288 with 1 Axes>"
      ]
     },
     "metadata": {
      "needs_background": "light"
     },
     "output_type": "display_data"
    }
   ],
   "source": [
    "plt.scatter(PCIG.Price_per_OZ,y)\n",
    "plt.scatter(PCIG.Price_per_OZ,PCIG.predict);"
   ]
  },
  {
   "cell_type": "code",
   "execution_count": 44,
   "metadata": {},
   "outputs": [],
   "source": [
    "# Make predictions on the test set using the new model\n",
    "test_set_pred = lasso_model.predict(X_te)"
   ]
  },
  {
   "cell_type": "code",
   "execution_count": 45,
   "metadata": {},
   "outputs": [
    {
     "data": {
      "text/plain": [
       "20.197439002241442"
      ]
     },
     "execution_count": 45,
     "metadata": {},
     "output_type": "execute_result"
    }
   ],
   "source": [
    "# Find the MAE and R^2 on the test set using this model\n",
    "mae(y_test, test_set_pred)"
   ]
  },
  {
   "cell_type": "markdown",
   "metadata": {},
   "source": [
    "### Highest R^2"
   ]
  },
  {
   "cell_type": "code",
   "execution_count": 46,
   "metadata": {},
   "outputs": [
    {
     "data": {
      "text/plain": [
       "0.17835007584038465"
      ]
     },
     "execution_count": 46,
     "metadata": {},
     "output_type": "execute_result"
    }
   ],
   "source": [
    "r2_score(y_test, test_set_pred)"
   ]
  },
  {
   "cell_type": "code",
   "execution_count": null,
   "metadata": {},
   "outputs": [],
   "source": [
    "y_pred = results.predict(sm.add_constant(X))\n",
    "\n",
    "plt.scatter(y_pred,y-y_pred,alpha=.1)\n",
    "plt.plot(np.linspace(0,600000,1000),np.linspace(0,0,1000))\n",
    "plt.xlabel('Predicted Value')\n",
    "plt.ylabel('Residual')"
   ]
  },
  {
   "cell_type": "markdown",
   "metadata": {},
   "source": [
    "### Feature Importance"
   ]
  },
  {
   "cell_type": "code",
   "execution_count": 90,
   "metadata": {},
   "outputs": [
    {
     "data": {
      "image/png": "[encoded data removed]",
      "text/plain": [
       "<Figure size 720x648 with 1 Axes>"
      ]
     },
     "metadata": {
      "needs_background": "light"
     },
     "output_type": "display_data"
    }
   ],
   "source": [
    "feat_imps = list(zip(X_train.columns,rf.feature_importances_))\n",
    "feat_imps = sorted(feat_imps, key = lambda x: x[1], reverse=False)\n",
    "feat_imps = pd.DataFrame(feat_imps, columns=['feature','importance'])\n",
    "\n",
    "feat_imps.plot(x='feature',y='importance',kind='barh', figsize = (10,9) ,color = ['indigo', 'thistle', 'orchid', 'lavenderblush', 'lightpink']);"
   ]
  },
  {
   "cell_type": "code",
   "execution_count": 113,
   "metadata": {},
   "outputs": [
    {
     "data": {
      "text/plain": [
       "<matplotlib.axes._subplots.AxesSubplot at 0x7fa2f9627610>"
      ]
     },
     "execution_count": 113,
     "metadata": {},
     "output_type": "execute_result"
    },
    {
     "data": {
      "image/png": "[encoded data removed]",
      "text/plain": [
       "<Figure size 432x288 with 1 Axes>"
      ]
     },
     "metadata": {
      "needs_background": "light"
     },
     "output_type": "display_data"
    }
   ],
   "source": [
    "feat_imps = list(zip(X_train.columns,gbm.feature_importances_))\n",
    "feat_imps = sorted(feat_imps, key = lambda x: x[1], reverse=False)\n",
    "feat_imps = pd.DataFrame(feat_imps, columns=['feature','importance'])\n",
    "\n",
    "feat_imps.plot(x='feature',y='importance',kind='barh')"
   ]
  },
  {
   "cell_type": "code",
   "execution_count": 114,
   "metadata": {},
   "outputs": [],
   "source": [
    "import pandas as pd\n",
    "import numpy as np\n",
    "\n",
    "import matplotlib.pyplot as plt\n",
    "%matplotlib inline\n",
    "import seaborn as sns\n",
    "sns.set()\n",
    "\n",
    "from sklearn.linear_model import LinearRegression\n"
   ]
  },
  {
   "cell_type": "code",
   "execution_count": 117,
   "metadata": {},
   "outputs": [
    {
     "data": {
      "text/plain": [
       "LinearRegression(copy_X=True, fit_intercept=True, n_jobs=None, normalize=False)"
      ]
     },
     "execution_count": 117,
     "metadata": {},
     "output_type": "execute_result"
    }
   ],
   "source": [
    "features, target = ['No_reviews', 'Hearts', 'Size','AHA', 'HA','AMOREPACIFIC', 'Clarins',\n",
    "             'Coty','Edgewell', 'Estee_Lauder', 'Independent', 'Kose', 'LG', 'LVMH',\n",
    "             'Loreal', 'Mark_Veder', 'PE', 'PG', 'Shiseido', 'SpaceNK', 'Unilever'], ['Price_per_OZ']\n",
    " \n",
    "\n",
    "X, y = PCIG_df[features], PCIG_df[target]\n",
    "\n",
    "lm = LinearRegression() # construct LinearRegression model object\n",
    "lm.fit(X, y) #fit model to our choice of features"
   ]
  },
  {
   "cell_type": "code",
   "execution_count": 118,
   "metadata": {},
   "outputs": [
    {
     "name": "stdout",
     "output_type": "stream",
     "text": [
      "[76.28055896]\n",
      "[[-6.14993475e-03 -6.40213956e-05 -1.71242101e+01  2.24824749e+00\n",
      "  -6.71610206e+00 -3.90037964e+00  4.39433654e+01  2.25443645e+01\n",
      "  -1.97559740e+01  1.34738468e+01  3.94296000e+00 -4.57326710e+00\n",
      "  -4.54905250e-01  5.04516475e+00  3.77167180e+00 -6.15866584e+00\n",
      "   2.05040764e+01  4.15386995e+00  1.01870241e+01 -1.56640475e+01\n",
      "   2.35180949e+00]]\n"
     ]
    }
   ],
   "source": [
    "# extract feature coefficients and intercept from fit model\n",
    "print(lm.intercept_)\n",
    "print(lm.coef_)"
   ]
  },
  {
   "cell_type": "code",
   "execution_count": 124,
   "metadata": {},
   "outputs": [
    {
     "data": {
      "image/png": "[encoded data removed]",
      "text/plain": [
       "<Figure size 432x432 with 3 Axes>"
      ]
     },
     "metadata": {},
     "output_type": "display_data"
    }
   ],
   "source": [
    "preds = lm.predict(X) # generate predictions (on training data) using fit model\n",
    "\n",
    "sns.jointplot(preds,y, kind='regplot');"
   ]
  },
  {
   "cell_type": "code",
   "execution_count": 125,
   "metadata": {},
   "outputs": [
    {
     "data": {
      "text/plain": [
       "Price_per_OZ    264245.726315\n",
       "dtype: float64"
      ]
     },
     "execution_count": 125,
     "metadata": {},
     "output_type": "execute_result"
    }
   ],
   "source": [
    "def SSE(actuals, preds):\n",
    "    return np.sum((actuals - preds)**2)\n",
    "\n",
    "SSE(y,preds)"
   ]
  },
  {
   "cell_type": "code",
   "execution_count": 126,
   "metadata": {},
   "outputs": [
    {
     "data": {
      "text/plain": [
       "Price_per_OZ    30.134049\n",
       "dtype: float64"
      ]
     },
     "execution_count": 126,
     "metadata": {},
     "output_type": "execute_result"
    }
   ],
   "source": [
    "def RMSE(actuals, preds): #root mean squared error\n",
    "    return np.sqrt(np.mean((actuals - preds)**2))\n",
    "\n",
    "RMSE(y,preds)"
   ]
  },
  {
   "cell_type": "code",
   "execution_count": 127,
   "metadata": {},
   "outputs": [
    {
     "data": {
      "text/plain": [
       "Price_per_OZ    20.465862\n",
       "dtype: float64"
      ]
     },
     "execution_count": 127,
     "metadata": {},
     "output_type": "execute_result"
    }
   ],
   "source": [
    "def MAE(actuals, preds): #mean absolute error\n",
    "    return np.mean(np.abs(actuals-preds))\n",
    "\n",
    "MAE(y,preds)"
   ]
  },
  {
   "cell_type": "code",
   "execution_count": 128,
   "metadata": {},
   "outputs": [
    {
     "data": {
      "text/plain": [
       "Price_per_OZ    0.146839\n",
       "dtype: float64"
      ]
     },
     "execution_count": 128,
     "metadata": {},
     "output_type": "execute_result"
    }
   ],
   "source": [
    "def SST(y):\n",
    "    return np.sum((y - np.mean(y))**2)\n",
    "\n",
    "def R2(actuals, preds):\n",
    "    return 1 - SSE(actuals, preds) / SST(actuals)\n",
    "\n",
    "R2(y,preds)"
   ]
  },
  {
   "cell_type": "code",
   "execution_count": 129,
   "metadata": {},
   "outputs": [
    {
     "data": {
      "text/plain": [
       "0.14683875694618231"
      ]
     },
     "execution_count": 129,
     "metadata": {},
     "output_type": "execute_result"
    }
   ],
   "source": [
    "lm.score(X,y)"
   ]
  },
  {
   "cell_type": "code",
   "execution_count": 130,
   "metadata": {},
   "outputs": [
    {
     "data": {
      "text/plain": [
       "0.14683875694618231"
      ]
     },
     "execution_count": 130,
     "metadata": {},
     "output_type": "execute_result"
    }
   ],
   "source": [
    "lm = LinearRegression() # construct LinearRegression model object\n",
    "lm.fit(X, y) #fit model to features X, target y\n",
    "\n",
    "lm.predict(X) # generate predictions for X using fit model\n",
    "lm.score(X,y) # score predictions on X against ground truth target y, using fit model"
   ]
  },
  {
   "cell_type": "code",
   "execution_count": 131,
   "metadata": {},
   "outputs": [
    {
     "data": {
      "text/plain": [
       "array([[-6.14993475e-03, -6.40213956e-05, -1.71242101e+01,\n",
       "         2.24824749e+00, -6.71610206e+00, -3.90037964e+00,\n",
       "         4.39433654e+01,  2.25443645e+01, -1.97559740e+01,\n",
       "         1.34738468e+01,  3.94296000e+00, -4.57326710e+00,\n",
       "        -4.54905250e-01,  5.04516475e+00,  3.77167180e+00,\n",
       "        -6.15866584e+00,  2.05040764e+01,  4.15386995e+00,\n",
       "         1.01870241e+01, -1.56640475e+01,  2.35180949e+00]])"
      ]
     },
     "execution_count": 131,
     "metadata": {},
     "output_type": "execute_result"
    }
   ],
   "source": [
    "# extract feature coefficients and intercept from fit model\n",
    "lm.intercept_\n",
    "lm.coef_"
   ]
  },
  {
   "cell_type": "markdown",
   "metadata": {},
   "source": [
    "### LARS Path for Importance Feature"
   ]
  },
  {
   "cell_type": "code",
   "execution_count": 47,
   "metadata": {},
   "outputs": [],
   "source": [
    "from sklearn.linear_model import lars_path"
   ]
  },
  {
   "cell_type": "code",
   "execution_count": 48,
   "metadata": {},
   "outputs": [
    {
     "data": {
      "text/plain": [
       "StandardScaler(copy=True, with_mean=True, with_std=True)"
      ]
     },
     "execution_count": 48,
     "metadata": {},
     "output_type": "execute_result"
    }
   ],
   "source": [
    "## Scale the variables\n",
    "std = StandardScaler()\n",
    "std.fit(X_train.values)"
   ]
  },
  {
   "cell_type": "code",
   "execution_count": 49,
   "metadata": {},
   "outputs": [],
   "source": [
    "X_tr = std.transform(X_train.values)"
   ]
  },
  {
   "cell_type": "code",
   "execution_count": 50,
   "metadata": {},
   "outputs": [
    {
     "name": "stdout",
     "output_type": "stream",
     "text": [
      "Computing regularization path using the LARS ...\n"
     ]
    }
   ],
   "source": [
    "## Note: lars_path takes numpy matrices, not pandas dataframes\n",
    "\n",
    "print(\"Computing regularization path using the LARS ...\")\n",
    "alphas, _, coefs = lars_path(X_tr, y_train.values, method='lasso')"
   ]
  },
  {
   "cell_type": "code",
   "execution_count": 51,
   "metadata": {},
   "outputs": [
    {
     "data": {
      "image/png": "[encoded data removed]",
      "text/plain": [
       "<Figure size 720x720 with 1 Axes>"
      ]
     },
     "metadata": {
      "needs_background": "light"
     },
     "output_type": "display_data"
    }
   ],
   "source": [
    "# plotting the LARS path\n",
    "\n",
    "xx = np.sum(np.abs(coefs.T), axis=1)\n",
    "xx /= xx[-1]\n",
    "\n",
    "plt.figure(figsize=(10,10))\n",
    "plt.plot(xx, coefs.T)\n",
    "ymin, ymax = plt.ylim()\n",
    "plt.vlines(xx, ymin, ymax, linestyle='dashed')\n",
    "plt.xlabel('|coef| / max|coef|')\n",
    "plt.ylabel('Coefficients')\n",
    "plt.title('LASSO Path')\n",
    "plt.axis('tight')\n",
    "plt.legend(X_train.columns)\n",
    "plt.show()"
   ]
  },
  {
   "cell_type": "code",
   "execution_count": null,
   "metadata": {},
   "outputs": [],
   "source": []
  }
 ],
 "metadata": {
  "kernelspec": {
   "display_name": "Python 3",
   "language": "python",
   "name": "python3"
  },
  "language_info": {
   "codemirror_mode": {
    "name": "ipython",
    "version": 3
   },
   "file_extension": ".py",
   "mimetype": "text/x-python",
   "name": "python",
   "nbconvert_exporter": "python",
   "pygments_lexer": "ipython3",
   "version": "3.7.4"
  }
 },
 "nbformat": 4,
 "nbformat_minor": 2
}
